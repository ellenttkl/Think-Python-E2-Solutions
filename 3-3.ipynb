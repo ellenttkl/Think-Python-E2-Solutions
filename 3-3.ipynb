{
  "nbformat": 4,
  "nbformat_minor": 0,
  "metadata": {
    "colab": {
      "name": "3-3",
      "provenance": [],
      "include_colab_link": true
    },
    "kernelspec": {
      "name": "python3",
      "display_name": "Python 3"
    }
  },
  "cells": [
    {
      "cell_type": "markdown",
      "metadata": {
        "id": "view-in-github",
        "colab_type": "text"
      },
      "source": [
        "<a href=\"https://colab.research.google.com/github/ellenttkl/Think-Python-E2-Solutions/blob/master/3-3.ipynb\" target=\"_parent\"><img src=\"https://colab.research.google.com/assets/colab-badge.svg\" alt=\"Open In Colab\"/></a>"
      ]
    },
    {
      "cell_type": "code",
      "metadata": {
        "id": "_i_oCgKn5YCC",
        "colab_type": "code",
        "outputId": "65deb6e2-8df6-4beb-9efb-6796d27dba22",
        "colab": {
          "base_uri": "https://localhost:8080/",
          "height": 370
        }
      },
      "source": [
        "def do_twice(f):\n",
        "  f()\n",
        "  f()\n",
        "def do_four(f):\n",
        "  do_twice(f)\n",
        "  do_twice(f)\n",
        "def print_beam():\n",
        "  print('+ - - - -',end='')\n",
        "def print_post():\n",
        "  print('|        ',end='')\n",
        "def print_beams():\n",
        "  do_four(print_beam)\n",
        "  print('+')\n",
        "def print_posts():\n",
        "  do_four(print_post)\n",
        "  print('|')\n",
        "def print_row():\n",
        "  print_beams()\n",
        "  do_four(print_posts)\n",
        "def print_grid():\n",
        "  do_four(print_row)\n",
        "  print_beams()\n",
        "print_grid()"
      ],
      "execution_count": 0,
      "outputs": [
        {
          "output_type": "stream",
          "text": [
            "+ - - - -+ - - - -+ - - - -+ - - - -+\n",
            "|        |        |        |        |\n",
            "|        |        |        |        |\n",
            "|        |        |        |        |\n",
            "|        |        |        |        |\n",
            "+ - - - -+ - - - -+ - - - -+ - - - -+\n",
            "|        |        |        |        |\n",
            "|        |        |        |        |\n",
            "|        |        |        |        |\n",
            "|        |        |        |        |\n",
            "+ - - - -+ - - - -+ - - - -+ - - - -+\n",
            "|        |        |        |        |\n",
            "|        |        |        |        |\n",
            "|        |        |        |        |\n",
            "|        |        |        |        |\n",
            "+ - - - -+ - - - -+ - - - -+ - - - -+\n",
            "|        |        |        |        |\n",
            "|        |        |        |        |\n",
            "|        |        |        |        |\n",
            "|        |        |        |        |\n",
            "+ - - - -+ - - - -+ - - - -+ - - - -+\n"
          ],
          "name": "stdout"
        }
      ]
    }
  ]
}