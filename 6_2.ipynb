{
  "nbformat": 4,
  "nbformat_minor": 0,
  "metadata": {
    "colab": {
      "name": "6-2.ipynb",
      "provenance": [],
      "include_colab_link": true
    },
    "kernelspec": {
      "name": "python3",
      "display_name": "Python 3"
    }
  },
  "cells": [
    {
      "cell_type": "markdown",
      "metadata": {
        "id": "view-in-github",
        "colab_type": "text"
      },
      "source": [
        "<a href=\"https://colab.research.google.com/github/ellenttkl/Think-Python-E2-Solutions/blob/master/6_2.ipynb\" target=\"_parent\"><img src=\"https://colab.research.google.com/assets/colab-badge.svg\" alt=\"Open In Colab\"/></a>"
      ]
    },
    {
      "cell_type": "markdown",
      "metadata": {
        "id": "pbqqrp0r7SlK",
        "colab_type": "text"
      },
      "source": [
        "The Ackermann function, A(m, n).\n",
        "\n",
        "Write a function named ack that evaluates the Ackermann function. Use your function to evaluate ack(3, 4), which should be 125. What happens for larger values of m and n? "
      ]
    },
    {
      "cell_type": "code",
      "metadata": {
        "id": "5t7ri2VT4zLN",
        "colab_type": "code",
        "colab": {}
      },
      "source": [
        "def act(m,n):\n",
        "  if m==0:\n",
        "    result = n+1\n",
        "  elif m>0 and n==0:\n",
        "    result = act(m-1,1)\n",
        "  elif m>0 and n>0:\n",
        "    result = act(m-1,act(m,n-1))\n",
        "  return result"
      ],
      "execution_count": 0,
      "outputs": []
    },
    {
      "cell_type": "code",
      "metadata": {
        "id": "Kr-7HeOc6jhj",
        "colab_type": "code",
        "colab": {
          "base_uri": "https://localhost:8080/",
          "height": 34
        },
        "outputId": "740645a5-2fe7-4ee2-be39-b7ee71228866"
      },
      "source": [
        "act(3,4)"
      ],
      "execution_count": 4,
      "outputs": [
        {
          "output_type": "execute_result",
          "data": {
            "text/plain": [
              "125"
            ]
          },
          "metadata": {
            "tags": []
          },
          "execution_count": 4
        }
      ]
    }
  ]
}