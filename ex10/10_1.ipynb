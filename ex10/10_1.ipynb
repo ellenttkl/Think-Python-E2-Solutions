{
  "nbformat": 4,
  "nbformat_minor": 0,
  "metadata": {
    "colab": {
      "name": "10-1.ipynb",
      "provenance": [],
      "include_colab_link": true
    },
    "kernelspec": {
      "name": "python3",
      "display_name": "Python 3"
    }
  },
  "cells": [
    {
      "cell_type": "markdown",
      "metadata": {
        "id": "view-in-github",
        "colab_type": "text"
      },
      "source": [
        "<a href=\"https://colab.research.google.com/github/ellenttkl/Think-Python-E2-Solutions/blob/master/ex10/10_1.ipynb\" target=\"_parent\"><img src=\"https://colab.research.google.com/assets/colab-badge.svg\" alt=\"Open In Colab\"/></a>"
      ]
    },
    {
      "cell_type": "markdown",
      "metadata": {
        "id": "3PNbWjs_pEl6",
        "colab_type": "text"
      },
      "source": [
        "Write a function called nested_sum that takes a list of lists of integers and adds up the elements from all of the nested lists. For example:\n",
        "\n",
        ">>> t = [[1, 2], [3], [4, 5, 6]]\n",
        "\n",
        ">>> nested_sum(t)"
      ]
    },
    {
      "cell_type": "code",
      "metadata": {
        "id": "L99JML-ImQ28",
        "colab_type": "code",
        "colab": {
          "base_uri": "https://localhost:8080/",
          "height": 34
        },
        "outputId": "15510e2a-b169-4fe8-e28a-e52e025c1ac6"
      },
      "source": [
        "def nested_sum(s):\n",
        "  total = 0\n",
        "  for ele1 in s:\n",
        "    for ele2 in ele1:\n",
        "      total += ele2\n",
        "  return total\n",
        "\n",
        "t = [[1,2],[3],[4,5,6]]\n",
        "nested_sum(t)\n",
        "\n"
      ],
      "execution_count": 1,
      "outputs": [
        {
          "output_type": "execute_result",
          "data": {
            "text/plain": [
              "21"
            ]
          },
          "metadata": {
            "tags": []
          },
          "execution_count": 1
        }
      ]
    },
    {
      "cell_type": "code",
      "metadata": {
        "id": "udTuEAm5o8j_",
        "colab_type": "code",
        "colab": {}
      },
      "source": [
        ""
      ],
      "execution_count": 0,
      "outputs": []
    }
  ]
}