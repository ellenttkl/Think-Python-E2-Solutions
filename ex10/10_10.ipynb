{
  "nbformat": 4,
  "nbformat_minor": 0,
  "metadata": {
    "colab": {
      "name": "10-10.ipynb",
      "provenance": [],
      "collapsed_sections": [],
      "include_colab_link": true
    },
    "kernelspec": {
      "name": "python3",
      "display_name": "Python 3"
    }
  },
  "cells": [
    {
      "cell_type": "markdown",
      "metadata": {
        "id": "view-in-github",
        "colab_type": "text"
      },
      "source": [
        "<a href=\"https://colab.research.google.com/github/ellenttkl/Think-Python-E2-Solutions/blob/master/ex10/10_10.ipynb\" target=\"_parent\"><img src=\"https://colab.research.google.com/assets/colab-badge.svg\" alt=\"Open In Colab\"/></a>"
      ]
    },
    {
      "cell_type": "markdown",
      "metadata": {
        "id": "v7ncR5-vD1sU",
        "colab_type": "text"
      },
      "source": [
        "To check whether a word is in the word list, you could use the in operator, but it would be slow because it searches through the words in order.\n",
        "\n",
        "Because the words are in alphabetical order, we can speed things up with a bisection search (also known as binary search), which is similar to what you do when you look a word up in the dictionary (the book, not the data structure). You start in the middle and check to see whether the word you are looking for comes before the word in the middle of the list. If so, you search the first half of the list the same way. Otherwise you search the second half.\n",
        "\n",
        "Either way, you cut the remaining search space in half. If the word list has 113,809 words, it will take about 17 steps to find the word or conclude that it’s not there.\n",
        "\n",
        "Write a function called in_bisect that takes a sorted list and a target value and returns True if the word is in the list and False if it’s not."
      ]
    },
    {
      "cell_type": "code",
      "metadata": {
        "id": "iqotxaX81oXZ",
        "colab_type": "code",
        "colab": {
          "base_uri": "https://localhost:8080/",
          "height": 34
        },
        "outputId": "19f91244-da87-42ee-8787-fe9a50609b03"
      },
      "source": [
        "def in_bisect(s,v):\n",
        "  i = len(s)//2\n",
        "  s_1 = s[0:i]\n",
        "  s_2 = s[i+1:]\n",
        "\n",
        "  if s[i] == v:\n",
        "    return True\n",
        "  elif v>s[i]:\n",
        "    return in_bisect(s_2,v)\n",
        "  else:\n",
        "    return in_bisect(s_1,v)\n",
        "\n",
        "t = ['a','b','c','d','e','f','g']\n",
        "v = 'f'\n",
        "if in_bisect(t,v):\n",
        "  print(t.index(v))"
      ],
      "execution_count": 18,
      "outputs": [
        {
          "output_type": "stream",
          "text": [
            "5\n"
          ],
          "name": "stdout"
        }
      ]
    },
    {
      "cell_type": "code",
      "metadata": {
        "id": "aG9ptKpV7qO5",
        "colab_type": "code",
        "colab": {}
      },
      "source": [
        ""
      ],
      "execution_count": 0,
      "outputs": []
    }
  ]
}