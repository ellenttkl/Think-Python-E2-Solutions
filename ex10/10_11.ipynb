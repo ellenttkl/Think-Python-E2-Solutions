{
  "nbformat": 4,
  "nbformat_minor": 0,
  "metadata": {
    "colab": {
      "name": "10-11.ipynb",
      "provenance": [],
      "collapsed_sections": [],
      "include_colab_link": true
    },
    "kernelspec": {
      "name": "python3",
      "display_name": "Python 3"
    }
  },
  "cells": [
    {
      "cell_type": "markdown",
      "metadata": {
        "id": "view-in-github",
        "colab_type": "text"
      },
      "source": [
        "<a href=\"https://colab.research.google.com/github/ellenttkl/Think-Python-E2-Solutions/blob/master/ex10/10_11.ipynb\" target=\"_parent\"><img src=\"https://colab.research.google.com/assets/colab-badge.svg\" alt=\"Open In Colab\"/></a>"
      ]
    },
    {
      "cell_type": "markdown",
      "metadata": {
        "id": "IkQci2Y6sLfE",
        "colab_type": "text"
      },
      "source": [
        "Two words are a “reverse pair” if each is the reverse of the other. Write a program that finds all the reverse pairs in the word list."
      ]
    },
    {
      "cell_type": "code",
      "metadata": {
        "id": "jp6h95jssI_k",
        "colab_type": "code",
        "colab": {}
      },
      "source": [
        "def word_list():\n",
        "    fin = open('words.txt')\n",
        "    t = []\n",
        "    for line in fin:\n",
        "        word = line.strip()\n",
        "        t.append(word)\n",
        "    return t\n",
        "\n",
        "def reverse_pair(word_list):\n",
        "    for i in range(len(word_list)-1):\n",
        "        for j in range(i+1,len(word_list)):\n",
        "            if list(word_list[i])==list(word_list[j])[::-1]:\n",
        "                print(word_list[i],',',word_list[j])\n",
        "\n",
        "word_list = ['ab','ba','hood','dooh','happy']\n",
        "\n",
        "reverse_pair(word_list)"
      ],
      "execution_count": 0,
      "outputs": []
    }
  ]
}