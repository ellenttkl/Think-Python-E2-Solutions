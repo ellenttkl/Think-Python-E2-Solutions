{
  "nbformat": 4,
  "nbformat_minor": 0,
  "metadata": {
    "colab": {
      "name": "10-12.ipynb",
      "provenance": [],
      "collapsed_sections": [],
      "include_colab_link": true
    },
    "kernelspec": {
      "name": "python3",
      "display_name": "Python 3"
    }
  },
  "cells": [
    {
      "cell_type": "markdown",
      "metadata": {
        "id": "view-in-github",
        "colab_type": "text"
      },
      "source": [
        "<a href=\"https://colab.research.google.com/github/ellenttkl/Think-Python-E2-Solutions/blob/master/ex10/10_12.ipynb\" target=\"_parent\"><img src=\"https://colab.research.google.com/assets/colab-badge.svg\" alt=\"Open In Colab\"/></a>"
      ]
    },
    {
      "cell_type": "markdown",
      "metadata": {
        "id": "D8UhyNAA4t49",
        "colab_type": "text"
      },
      "source": [
        "Two words “interlock” if taking alternating letters from each forms a new word. For example, “shoe” and “cold” interlock to form “schooled”.\n",
        "\n",
        "1.Write a program that finds all pairs of words that interlock. Hint: don’t enumerate all pairs!\n",
        "\n",
        "2.Can you find any words that are three-way interlocked; that is, every third letter forms a word, starting from the first, second or third?"
      ]
    },
    {
      "cell_type": "code",
      "metadata": {
        "id": "XqpQ1prQsgo2",
        "colab_type": "code",
        "colab": {
          "base_uri": "https://localhost:8080/",
          "height": 34
        },
        "outputId": "0f683677-c193-4981-9e80-b759293e1a55"
      },
      "source": [
        "def word_list():\n",
        "  fin = open('words.txt')\n",
        "  t = []\n",
        "  for line in fin:\n",
        "    word = line.strip()\n",
        "    t.append(word)\n",
        "  return t\n",
        "\n",
        "def make_new_word(word1,word2):\n",
        "  list1 = list(word1)\n",
        "  list2 = list(word2)\n",
        "  new_list = []\n",
        "  if len(list1)==len(list2):\n",
        "    for i in range(len(list1)):\n",
        "      new_list.append(list1[i])\n",
        "      new_list.append(list2[i])\n",
        "  if len(list1)<len(list2):\n",
        "    for i in range(len(list1)):\n",
        "      new_list.append(list1[i])\n",
        "      new_list.append(list2[i])\n",
        "    new_list.extend(list2[i+1:]) \n",
        "  if len(list1)>len(list2):\n",
        "    for i in range(len(list2)):\n",
        "      new_list.append(list1[i])\n",
        "      new_list.append(list2[i])\n",
        "    new_list.extend(list1[i+1:])\n",
        "  new_word = ''.join(new_list)\n",
        "  return new_word   \n",
        "\n",
        "def interlock_pair(word_list):\n",
        "  for i in range(len(word_list)-1):\n",
        "    for j in range(i+1,len(word_list)):\n",
        "      new_word = make_new_word(word_list[i],word_list[j])\n",
        "      if new_word in word_list:\n",
        "        print(word_list[i],',',word_list[j])\n",
        "\n",
        "t = ['abc','de','adbec']\n",
        "interlock_pair(t)        "
      ],
      "execution_count": 8,
      "outputs": [
        {
          "output_type": "stream",
          "text": [
            "abc , de\n"
          ],
          "name": "stdout"
        }
      ]
    },
    {
      "cell_type": "code",
      "metadata": {
        "id": "1i7dXa452TEl",
        "colab_type": "code",
        "colab": {}
      },
      "source": [
        ""
      ],
      "execution_count": 0,
      "outputs": []
    }
  ]
}