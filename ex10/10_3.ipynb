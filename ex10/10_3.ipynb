{
  "nbformat": 4,
  "nbformat_minor": 0,
  "metadata": {
    "colab": {
      "name": "10-3.ipynb",
      "provenance": [],
      "include_colab_link": true
    },
    "kernelspec": {
      "name": "python3",
      "display_name": "Python 3"
    }
  },
  "cells": [
    {
      "cell_type": "markdown",
      "metadata": {
        "id": "view-in-github",
        "colab_type": "text"
      },
      "source": [
        "<a href=\"https://colab.research.google.com/github/ellenttkl/Think-Python-E2-Solutions/blob/master/ex10/10_3.ipynb\" target=\"_parent\"><img src=\"https://colab.research.google.com/assets/colab-badge.svg\" alt=\"Open In Colab\"/></a>"
      ]
    },
    {
      "cell_type": "markdown",
      "metadata": {
        "id": "y-NcBdtPw3ZW",
        "colab_type": "text"
      },
      "source": [
        "Write a function called middle that takes a list and returns a new list that contains all but the first and last elements"
      ]
    },
    {
      "cell_type": "code",
      "metadata": {
        "id": "dmHTURzxssuV",
        "colab_type": "code",
        "colab": {
          "base_uri": "https://localhost:8080/",
          "height": 34
        },
        "outputId": "47cb98ba-4e76-4654-b165-083e1bce5046"
      },
      "source": [
        "def middle(t):\n",
        "    t.pop(0)\n",
        "    del t[-1]\n",
        "    return t\n",
        "\n",
        "t = [1,2,3,4]\n",
        "middle(t) "
      ],
      "execution_count": 1,
      "outputs": [
        {
          "output_type": "execute_result",
          "data": {
            "text/plain": [
              "[2, 3]"
            ]
          },
          "metadata": {
            "tags": []
          },
          "execution_count": 1
        }
      ]
    }
  ]
}