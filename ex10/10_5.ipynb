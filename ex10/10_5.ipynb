{
  "nbformat": 4,
  "nbformat_minor": 0,
  "metadata": {
    "colab": {
      "name": "10-5.ipynb",
      "provenance": [],
      "collapsed_sections": [],
      "include_colab_link": true
    },
    "kernelspec": {
      "name": "python3",
      "display_name": "Python 3"
    }
  },
  "cells": [
    {
      "cell_type": "markdown",
      "metadata": {
        "id": "view-in-github",
        "colab_type": "text"
      },
      "source": [
        "<a href=\"https://colab.research.google.com/github/ellenttkl/Think-Python-E2-Solutions/blob/master/ex10/10_5.ipynb\" target=\"_parent\"><img src=\"https://colab.research.google.com/assets/colab-badge.svg\" alt=\"Open In Colab\"/></a>"
      ]
    },
    {
      "cell_type": "markdown",
      "metadata": {
        "id": "VaynLfHK9yM0",
        "colab_type": "text"
      },
      "source": [
        "Write a function called is_sorted that takes a list as a parameter and returns True if the list is sorted in ascending order and False otherwise."
      ]
    },
    {
      "cell_type": "code",
      "metadata": {
        "id": "xNUXXeXM77de",
        "colab_type": "code",
        "colab": {
          "base_uri": "https://localhost:8080/",
          "height": 34
        },
        "outputId": "319becb2-b212-4488-dc58-037dbf707e85"
      },
      "source": [
        "def is_sorted(s):\n",
        "    t = s[:]\n",
        "    t.sort()\n",
        "    if s==t:\n",
        "        return True\n",
        "    return False\n",
        "\n",
        "t = [3,2,2]\n",
        "is_sorted(t)"
      ],
      "execution_count": 7,
      "outputs": [
        {
          "output_type": "execute_result",
          "data": {
            "text/plain": [
              "False"
            ]
          },
          "metadata": {
            "tags": []
          },
          "execution_count": 7
        }
      ]
    },
    {
      "cell_type": "code",
      "metadata": {
        "id": "WH8WYt5G8xTK",
        "colab_type": "code",
        "colab": {}
      },
      "source": [
        ""
      ],
      "execution_count": 0,
      "outputs": []
    }
  ]
}