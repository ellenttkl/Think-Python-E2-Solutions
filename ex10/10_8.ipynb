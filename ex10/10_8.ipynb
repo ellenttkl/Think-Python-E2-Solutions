{
  "nbformat": 4,
  "nbformat_minor": 0,
  "metadata": {
    "colab": {
      "name": "10-8.ipynb",
      "provenance": [],
      "collapsed_sections": [],
      "include_colab_link": true
    },
    "kernelspec": {
      "name": "python3",
      "display_name": "Python 3"
    }
  },
  "cells": [
    {
      "cell_type": "markdown",
      "metadata": {
        "id": "view-in-github",
        "colab_type": "text"
      },
      "source": [
        "<a href=\"https://colab.research.google.com/github/ellenttkl/Think-Python-E2-Solutions/blob/master/ex10/10_8.ipynb\" target=\"_parent\"><img src=\"https://colab.research.google.com/assets/colab-badge.svg\" alt=\"Open In Colab\"/></a>"
      ]
    },
    {
      "cell_type": "markdown",
      "metadata": {
        "id": "3b3iKrX3TspB",
        "colab_type": "text"
      },
      "source": [
        "This exercise pertains to the so-called Birthday Paradox, which you can read about at http://en.wikipedia.org/wiki/Birthday_paradox.\n",
        "\n",
        "If there are 23 students in your class, what are the chances that two of you have the same birthday? You can estimate this probability by generating random samples of 23 birthdays and checking for matches. Hint: you can generate random birthdays with the randint function in the random module."
      ]
    },
    {
      "cell_type": "code",
      "metadata": {
        "id": "Xys_Z5ObQf6i",
        "colab_type": "code",
        "colab": {
          "base_uri": "https://localhost:8080/",
          "height": 34
        },
        "outputId": "cff898a3-7bca-4cbf-a63c-3c2161b6e039"
      },
      "source": [
        "import random\n",
        "\n",
        "def birthday_list(n):\n",
        "    t = []\n",
        "    for i in range(n):\n",
        "        bday = random.randint(1,365)\n",
        "        t.append(bday)\n",
        "    return t\n",
        "\n",
        "def has_duplicate(s):\n",
        "    t = set(s)\n",
        "    if len(s)==len(t):\n",
        "        return False\n",
        "    return True\n",
        "\n",
        "def check_probability(student_num,simulation_times):\n",
        "    count = 0\n",
        "    for i in range(simulation_times):\n",
        "        b_list = birthday_list(student_num)\n",
        "        if has_duplicate(b_list):\n",
        "            count += 1\n",
        "    return count\n",
        "\n",
        "probability = check_probability(23,1000)\n",
        "print(probability)\n",
        "\n"
      ],
      "execution_count": 1,
      "outputs": [
        {
          "output_type": "stream",
          "text": [
            "496\n"
          ],
          "name": "stdout"
        }
      ]
    },
    {
      "cell_type": "code",
      "metadata": {
        "id": "LGSGEtTOTMZM",
        "colab_type": "code",
        "colab": {}
      },
      "source": [
        ""
      ],
      "execution_count": 0,
      "outputs": []
    }
  ]
}