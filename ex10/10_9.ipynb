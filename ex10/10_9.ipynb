{
  "nbformat": 4,
  "nbformat_minor": 0,
  "metadata": {
    "colab": {
      "name": "10-9.ipynb",
      "provenance": [],
      "collapsed_sections": [],
      "include_colab_link": true
    },
    "kernelspec": {
      "name": "python3",
      "display_name": "Python 3"
    }
  },
  "cells": [
    {
      "cell_type": "markdown",
      "metadata": {
        "id": "view-in-github",
        "colab_type": "text"
      },
      "source": [
        "<a href=\"https://colab.research.google.com/github/ellenttkl/Think-Python-E2-Solutions/blob/master/ex10/10_9.ipynb\" target=\"_parent\"><img src=\"https://colab.research.google.com/assets/colab-badge.svg\" alt=\"Open In Colab\"/></a>"
      ]
    },
    {
      "cell_type": "markdown",
      "metadata": {
        "id": "2G6sDKt_Dsjf",
        "colab_type": "text"
      },
      "source": [
        "Write a function that reads the file words.txt and builds a list with one element per word. Write two versions of this function, one using the append method and the other using the idiom t = t + [x]. Which one takes longer to run? Why?"
      ]
    },
    {
      "cell_type": "code",
      "metadata": {
        "id": "90w4-In3Af4A",
        "colab_type": "code",
        "colab": {}
      },
      "source": [
        "import time\n",
        "\n",
        "def build_list_1():\n",
        "    fin = open('words.txt')\n",
        "    t = []\n",
        "    for word in fin:\n",
        "        line = word.strip()\n",
        "        t.append(line)\n",
        "    return t\n",
        "\n",
        "def build_list_2():\n",
        "    fin = open('words.txt')\n",
        "    t = []\n",
        "    for word in fin:\n",
        "        line = word.strip()\n",
        "        t = t + [line]\n",
        "    return t\n",
        "\n",
        "start_time_1 = time.time()\n",
        "build_list_1()\n",
        "running_time_1 = time.time()-start_time_1\n",
        "print('build_list_1 takes %s seconds' %running_time_1)\n",
        "\n",
        "start_time_2 = time.time()\n",
        "build_list_2()\n",
        "running_time_2 = time.time()-start_time_2\n",
        "print('build_list_2 takes %s seconds' %running_time_2)"
      ],
      "execution_count": 0,
      "outputs": []
    }
  ]
}