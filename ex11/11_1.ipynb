{
  "nbformat": 4,
  "nbformat_minor": 0,
  "metadata": {
    "colab": {
      "name": "11-1.ipynb",
      "provenance": [],
      "collapsed_sections": [],
      "include_colab_link": true
    },
    "kernelspec": {
      "name": "python3",
      "display_name": "Python 3"
    }
  },
  "cells": [
    {
      "cell_type": "markdown",
      "metadata": {
        "id": "view-in-github",
        "colab_type": "text"
      },
      "source": [
        "<a href=\"https://colab.research.google.com/github/ellenttkl/Think-Python-E2-Solutions/blob/master/ex11/11_1.ipynb\" target=\"_parent\"><img src=\"https://colab.research.google.com/assets/colab-badge.svg\" alt=\"Open In Colab\"/></a>"
      ]
    },
    {
      "cell_type": "markdown",
      "metadata": {
        "id": "G0g7ASovWTzx",
        "colab_type": "text"
      },
      "source": [
        "Write a function that reads the words in words.txt and stores them as keys in a dictionary. It doesn’t matter what the values are. Then you can use the in operator as a fast way to check whether a string is in the dictionary."
      ]
    },
    {
      "cell_type": "code",
      "metadata": {
        "id": "90VpqWjnVQc_",
        "colab_type": "code",
        "colab": {}
      },
      "source": [
        "def word_dict():\n",
        "  fin = open('words.txt')\n",
        "  d = {}\n",
        "  for line in fin:\n",
        "    word = line.strip().lower\n",
        "    d[word] = d.get(word,0)+1\n",
        "  return d\n",
        "\n",
        "word_dict = word_dict()\n",
        "s = 'string'\n",
        "if s in d:\n",
        "  print('True')\n",
        "else:\n",
        "  print('False')\n",
        "  "
      ],
      "execution_count": 0,
      "outputs": []
    },
    {
      "cell_type": "code",
      "metadata": {
        "id": "GmwCNbx-WVbc",
        "colab_type": "code",
        "colab": {}
      },
      "source": [
        ""
      ],
      "execution_count": 0,
      "outputs": []
    }
  ]
}