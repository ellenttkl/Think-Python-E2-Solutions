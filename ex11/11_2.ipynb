{
  "nbformat": 4,
  "nbformat_minor": 0,
  "metadata": {
    "colab": {
      "name": "11-2.ipynb",
      "provenance": [],
      "collapsed_sections": [],
      "include_colab_link": true
    },
    "kernelspec": {
      "name": "python3",
      "display_name": "Python 3"
    }
  },
  "cells": [
    {
      "cell_type": "markdown",
      "metadata": {
        "id": "view-in-github",
        "colab_type": "text"
      },
      "source": [
        "<a href=\"https://colab.research.google.com/github/ellenttkl/Think-Python-E2-Solutions/blob/master/ex11/11_2.ipynb\" target=\"_parent\"><img src=\"https://colab.research.google.com/assets/colab-badge.svg\" alt=\"Open In Colab\"/></a>"
      ]
    },
    {
      "cell_type": "markdown",
      "metadata": {
        "id": "bW6h8mbpdMzn",
        "colab_type": "text"
      },
      "source": [
        "Read the documentation of the dictionary method setdefault and use it to write a more concise version of invert_dict."
      ]
    },
    {
      "cell_type": "code",
      "metadata": {
        "id": "kMg2HaLqW6qo",
        "colab_type": "code",
        "colab": {
          "base_uri": "https://localhost:8080/",
          "height": 34
        },
        "outputId": "2f841496-1d2e-483a-9638-36b6e702c87f"
      },
      "source": [
        "def invert_dict(d):\n",
        "  inverse = dict()\n",
        "  for key in d:\n",
        "    val = d[key]\n",
        "    inverse.setdefault(val,[]).append(key)\n",
        "  return inverse\n",
        "\n",
        "s = {'a':1,'b':2,'c':3,'d':2}\n",
        "inverse_s = invert_dict(s)\n",
        "print(inverse_s)\n",
        "\n"
      ],
      "execution_count": 6,
      "outputs": [
        {
          "output_type": "stream",
          "text": [
            "{1: ['a'], 2: ['b', 'd'], 3: ['c']}\n"
          ],
          "name": "stdout"
        }
      ]
    },
    {
      "cell_type": "code",
      "metadata": {
        "id": "d1LYZhR_cvfQ",
        "colab_type": "code",
        "colab": {}
      },
      "source": [
        ""
      ],
      "execution_count": 0,
      "outputs": []
    }
  ]
}