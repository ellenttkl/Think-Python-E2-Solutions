{
  "nbformat": 4,
  "nbformat_minor": 0,
  "metadata": {
    "colab": {
      "name": "11-3.ipynb",
      "provenance": [],
      "collapsed_sections": [],
      "include_colab_link": true
    },
    "kernelspec": {
      "name": "python3",
      "display_name": "Python 3"
    }
  },
  "cells": [
    {
      "cell_type": "markdown",
      "metadata": {
        "id": "view-in-github",
        "colab_type": "text"
      },
      "source": [
        "<a href=\"https://colab.research.google.com/github/ellenttkl/Think-Python-E2-Solutions/blob/master/ex11/11_3.ipynb\" target=\"_parent\"><img src=\"https://colab.research.google.com/assets/colab-badge.svg\" alt=\"Open In Colab\"/></a>"
      ]
    },
    {
      "cell_type": "markdown",
      "metadata": {
        "id": "Frd_oyEMl0GR",
        "colab_type": "text"
      },
      "source": [
        " Memoize the Ackermann function from Exercise 2 and see if memoization makes it possible to evaluate the function with bigger arguments"
      ]
    },
    {
      "cell_type": "code",
      "metadata": {
        "id": "NwMTVtsPdp7P",
        "colab_type": "code",
        "colab": {
          "base_uri": "https://localhost:8080/",
          "height": 34
        },
        "outputId": "98fc363b-9f9a-4b20-8796-87a9041a3891"
      },
      "source": [
        "dict = {}\n",
        "\n",
        "def ack(m,n):\n",
        "  if m==0:\n",
        "    return n+1\n",
        "  if n==0:\n",
        "    return ack(m-1,1)\n",
        "  if (m,n) in dict:\n",
        "    return dict[(m,n)]\n",
        "  result = ack(m-1,ack(m,n-1))\n",
        "  dict[(m,n)] = result\n",
        "  return result\n",
        "\n",
        "print(ack(3,4))\n"
      ],
      "execution_count": 5,
      "outputs": [
        {
          "output_type": "stream",
          "text": [
            "125\n"
          ],
          "name": "stdout"
        }
      ]
    },
    {
      "cell_type": "code",
      "metadata": {
        "id": "SpmfFpxxkW_k",
        "colab_type": "code",
        "colab": {}
      },
      "source": [
        ""
      ],
      "execution_count": 0,
      "outputs": []
    }
  ]
}