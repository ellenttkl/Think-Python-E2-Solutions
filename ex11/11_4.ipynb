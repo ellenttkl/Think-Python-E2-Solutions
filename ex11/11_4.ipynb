{
  "nbformat": 4,
  "nbformat_minor": 0,
  "metadata": {
    "colab": {
      "name": "11-4.ipynb",
      "provenance": [],
      "collapsed_sections": [],
      "include_colab_link": true
    },
    "kernelspec": {
      "name": "python3",
      "display_name": "Python 3"
    }
  },
  "cells": [
    {
      "cell_type": "markdown",
      "metadata": {
        "id": "view-in-github",
        "colab_type": "text"
      },
      "source": [
        "<a href=\"https://colab.research.google.com/github/ellenttkl/Think-Python-E2-Solutions/blob/master/ex11/11_4.ipynb\" target=\"_parent\"><img src=\"https://colab.research.google.com/assets/colab-badge.svg\" alt=\"Open In Colab\"/></a>"
      ]
    },
    {
      "cell_type": "markdown",
      "metadata": {
        "id": "Sw21UeTPdjQb",
        "colab_type": "text"
      },
      "source": [
        "If you did Exercise 7, you already have a function named has_duplicates that takes a list as a parameter and returns True if there is any object that appears more than once in the list.\n",
        "\n",
        "Use a dictionary to write a faster, simpler version of has_duplicates. "
      ]
    },
    {
      "cell_type": "code",
      "metadata": {
        "id": "3e8hy70sZf7g",
        "colab_type": "code",
        "colab": {}
      },
      "source": [
        "def has_duplicates(s):\n",
        "  dict = {}\n",
        "  for ele in s:\n",
        "    if ele in dict:\n",
        "      return True\n",
        "    dict[ele] = 'False'\n",
        "\n",
        "t = ['a','b','c','d']\n",
        "has_duplicates(t)\n"
      ],
      "execution_count": 0,
      "outputs": []
    },
    {
      "cell_type": "markdown",
      "metadata": {
        "id": "bEPSrOJDdXf3",
        "colab_type": "text"
      },
      "source": [
        ""
      ]
    },
    {
      "cell_type": "code",
      "metadata": {
        "id": "0pbzeRL9a8cC",
        "colab_type": "code",
        "colab": {}
      },
      "source": [
        ""
      ],
      "execution_count": 0,
      "outputs": []
    }
  ]
}