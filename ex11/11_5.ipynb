{
  "nbformat": 4,
  "nbformat_minor": 0,
  "metadata": {
    "colab": {
      "name": "11-5.ipynb",
      "provenance": [],
      "collapsed_sections": [],
      "include_colab_link": true
    },
    "kernelspec": {
      "name": "python3",
      "display_name": "Python 3"
    }
  },
  "cells": [
    {
      "cell_type": "markdown",
      "metadata": {
        "id": "view-in-github",
        "colab_type": "text"
      },
      "source": [
        "<a href=\"https://colab.research.google.com/github/ellenttkl/Think-Python-E2-Solutions/blob/master/ex11/11_5.ipynb\" target=\"_parent\"><img src=\"https://colab.research.google.com/assets/colab-badge.svg\" alt=\"Open In Colab\"/></a>"
      ]
    },
    {
      "cell_type": "markdown",
      "metadata": {
        "id": "KycRi9x4xhhK",
        "colab_type": "text"
      },
      "source": [
        "Two words are “rotate pairs” if you can rotate one of them and get the other (see rotate_word in Exercise 5).\n",
        "\n",
        "Write a program that reads a wordlist and finds all the rotate pairs."
      ]
    },
    {
      "cell_type": "code",
      "metadata": {
        "id": "h9Ftoo4gdvlB",
        "colab_type": "code",
        "colab": {}
      },
      "source": [
        "def word_dict():\n",
        "  dict = {}\n",
        "  fin = open('words.txt')\n",
        "  for line in fin:\n",
        "    word = line.strip().lower()\n",
        "    dict[word] = None\n",
        "  return dict\n",
        "\n",
        "def rotate_letter(l,n):\n",
        "  if l.islower():\n",
        "    start = ord('a')\n",
        "  elif l.isupper():\n",
        "    start = ord('A')\n",
        "  else:\n",
        "    return l\n",
        "  new_letter = chr((ord(l)-start+n)%26+start)\n",
        "  return new_letter\n",
        "\n",
        "def rotate_word(st,n):\n",
        "    new_string = ''\n",
        "    for letter in st:\n",
        "      new_letter = rotate_letter(letter,n)\n",
        "      new_string += new_letter\n",
        "    return new_string \n",
        "\n",
        "def rotate_word_pair(word_dict,word):\n",
        "  for i in range(1,14):\n",
        "    rotate_word = rotate_word(word,i)\n",
        "    if rotate_word in word_dict:\n",
        "      print(word,i,rotate_word)\n",
        "\n",
        "word_dict = word_dict()\n",
        "for word in word_dict:\n",
        "  rotate_word_pair(word_dict,word)\n",
        "\n"
      ],
      "execution_count": 0,
      "outputs": []
    }
  ]
}