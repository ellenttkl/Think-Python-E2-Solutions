{
  "nbformat": 4,
  "nbformat_minor": 0,
  "metadata": {
    "colab": {
      "name": "11-6.ipynb",
      "provenance": [],
      "collapsed_sections": [],
      "include_colab_link": true
    },
    "kernelspec": {
      "name": "python3",
      "display_name": "Python 3"
    }
  },
  "cells": [
    {
      "cell_type": "markdown",
      "metadata": {
        "id": "view-in-github",
        "colab_type": "text"
      },
      "source": [
        "<a href=\"https://colab.research.google.com/github/ellenttkl/Think-Python-E2-Solutions/blob/master/ex11/11_6.ipynb\" target=\"_parent\"><img src=\"https://colab.research.google.com/assets/colab-badge.svg\" alt=\"Open In Colab\"/></a>"
      ]
    },
    {
      "cell_type": "markdown",
      "metadata": {
        "id": "jkJLGrJC49OR",
        "colab_type": "text"
      },
      "source": [
        "Here’s another Puzzler from Car Talk (http://www.cartalk.com/content/puzzlers):\n",
        "\n",
        "This was sent in by a fellow named Dan O’Leary. He came upon a common one-syllable, five-letter word recently that has the following unique property. When you remove the first letter, the remaining letters form a homophone of the original word, that is a word that sounds exactly the same. Replace the first letter, that is, put it back and remove the second letter and the result is yet another homophone of the original word. And the question is, what’s the word?\n",
        "Now I’m going to give you an example that doesn’t work. Let’s look at the five-letter word, ‘wrack.’ W-R-A-C-K, you know like to ‘wrack with pain.’ If I remove the first letter, I am left with a four-letter word, ’R-A-C-K.’ As in, ‘Holy cow, did you see the rack on that buck! It must have been a nine-pointer!’ It’s a perfect homophone. If you put the ‘w’ back, and remove the ‘r,’ instead, you’re left with the word, ‘wack,’ which is a real word, it’s just not a homophone of the other two words.\n",
        "\n",
        "But there is, however, at least one word that Dan and we know of, which will yield two homophones if you remove either of the first two letters to make two, new four-letter words. The question is, what’s the word?"
      ]
    },
    {
      "cell_type": "code",
      "metadata": {
        "id": "Id8PQxwBx20v",
        "colab_type": "code",
        "colab": {}
      },
      "source": [
        "from pronounce import read_dictionary\n",
        "\n",
        "def word_dict():\n",
        "  fin = open('words.txt')\n",
        "  d = {}\n",
        "  for line in fin:\n",
        "    word = line.strip()\n",
        "    d[word] = d.get(word,0)+1\n",
        "  return d\n",
        "\n",
        "\n",
        "def homophones(a, b, phonetic):\n",
        "  if a not in phonetic or b not in phonetic:\n",
        "    return False\n",
        "  return phonetic[a] == phonetic[b]\n",
        "\n",
        "def check_word(word,word_dict,phonetic): \n",
        "  word1 = word[1:]\n",
        "  word2 = word[0]+word[2:]\n",
        "  if word1 not in word_dict:\n",
        "    return False\n",
        "  if not homophone(word,word1,phonetic):\n",
        "    return False\n",
        "  if word2 not in word_dict:\n",
        "    return False\n",
        "  if not homophone(word,word2,phonetic):\n",
        "    return False\n",
        "  return True\n",
        "\n",
        "phonetic = read_dictionary()\n",
        "word_dict = word_dict()\n",
        "for word in word_dict:\n",
        "  if check_word(word,word_dict,phonetic):\n",
        "    print(word, word[1:],word[0]+word[2:])"
      ],
      "execution_count": 0,
      "outputs": []
    },
    {
      "cell_type": "code",
      "metadata": {
        "id": "ZUghjdD24jU2",
        "colab_type": "code",
        "colab": {}
      },
      "source": [
        ""
      ],
      "execution_count": 0,
      "outputs": []
    }
  ]
}