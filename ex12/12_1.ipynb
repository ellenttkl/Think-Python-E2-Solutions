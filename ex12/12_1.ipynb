{
  "nbformat": 4,
  "nbformat_minor": 0,
  "metadata": {
    "colab": {
      "name": "12-1.ipynb",
      "provenance": [],
      "collapsed_sections": [],
      "include_colab_link": true
    },
    "kernelspec": {
      "name": "python3",
      "display_name": "Python 3"
    }
  },
  "cells": [
    {
      "cell_type": "markdown",
      "metadata": {
        "id": "view-in-github",
        "colab_type": "text"
      },
      "source": [
        "<a href=\"https://colab.research.google.com/github/ellenttkl/Think-Python-E2-Solutions/blob/master/ex12/12_1.ipynb\" target=\"_parent\"><img src=\"https://colab.research.google.com/assets/colab-badge.svg\" alt=\"Open In Colab\"/></a>"
      ]
    },
    {
      "cell_type": "markdown",
      "metadata": {
        "id": "DcqrMjil-ejq",
        "colab_type": "text"
      },
      "source": [
        "Write a function called most_frequent that takes a string and prints the letters in decreasing order of frequency. "
      ]
    },
    {
      "cell_type": "code",
      "metadata": {
        "id": "1yNeNJ9h7yZq",
        "colab_type": "code",
        "colab": {
          "base_uri": "https://localhost:8080/",
          "height": 34
        },
        "outputId": "37c7dbca-901b-4ade-99ee-bf3fe5da6387"
      },
      "source": [
        "import operator\n",
        "def most_frequent(s):\n",
        "  d = {}\n",
        "  for letter in s:\n",
        "    d[letter] = d.get(letter,0)+1\n",
        "  y = sorted(d.items(),key = operator.itemgetter(1))\n",
        "  return y\n",
        "most_frequent('happy')"
      ],
      "execution_count": 8,
      "outputs": [
        {
          "output_type": "execute_result",
          "data": {
            "text/plain": [
              "[('h', 1), ('a', 1), ('y', 1), ('p', 2)]"
            ]
          },
          "metadata": {
            "tags": []
          },
          "execution_count": 8
        }
      ]
    },
    {
      "cell_type": "code",
      "metadata": {
        "id": "-xk9fRAa5OXV",
        "colab_type": "code",
        "colab": {}
      },
      "source": [
        ""
      ],
      "execution_count": 0,
      "outputs": []
    }
  ]
}