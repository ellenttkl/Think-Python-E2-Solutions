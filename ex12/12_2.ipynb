{
  "nbformat": 4,
  "nbformat_minor": 0,
  "metadata": {
    "colab": {
      "name": "12-2.ipynb",
      "provenance": [],
      "collapsed_sections": [],
      "include_colab_link": true
    },
    "kernelspec": {
      "name": "python3",
      "display_name": "Python 3"
    }
  },
  "cells": [
    {
      "cell_type": "markdown",
      "metadata": {
        "id": "view-in-github",
        "colab_type": "text"
      },
      "source": [
        "<a href=\"https://colab.research.google.com/github/ellenttkl/Think-Python-E2-Solutions/blob/master/ex12/12_2.ipynb\" target=\"_parent\"><img src=\"https://colab.research.google.com/assets/colab-badge.svg\" alt=\"Open In Colab\"/></a>"
      ]
    },
    {
      "cell_type": "markdown",
      "metadata": {
        "id": "VnJGzvfIMcuc",
        "colab_type": "text"
      },
      "source": [
        "More anagrams!\n",
        "\n",
        "Write a program that reads a word list from a file (see Section 9.1) and prints all the sets of words that are anagrams.\n",
        "Here is an example of what the output might look like:\n",
        "\n",
        "['deltas', 'desalt', 'lasted', 'salted', 'slated', 'staled']\n",
        "\n",
        "['retainers', 'ternaries']\n",
        "\n",
        "['generating', 'greatening']\n",
        "\n",
        "['resmelts', 'smelters', 'termless']\n",
        "\n",
        "Hint: you might want to build a dictionary that maps from a collection of letters to a list of words that can be spelled with those letters. The question is, how can you represent the collection of letters in a way that can be used as a key?\n",
        "\n",
        "Modify the previous program so that it prints the longest list of anagrams first, followed by the second longest, and so on.\n",
        "\n",
        "In Scrabble a “bingo” is when you play all seven tiles in your rack, along with a letter on the board, to form an eight-letter word. What collection of 8 letters forms the most possible bingos?"
      ]
    },
    {
      "cell_type": "code",
      "metadata": {
        "id": "LhJyLICt-10m",
        "colab_type": "code",
        "colab": {}
      },
      "source": [
        "def signature(s):\n",
        "  t = list(s)\n",
        "  t.sort()\n",
        "  t = ''.join(t)\n",
        "  return t\n",
        "\n",
        "def find_anagrams():\n",
        "  d = {}\n",
        "  fin = open('words.txt')\n",
        "  for line in fin:\n",
        "    word = line.strip().lower()\n",
        "    s = signature(word)\n",
        "    d[s] = d.get(s,[]).append([word])\n",
        "  return d\n",
        "\n",
        "def print_anagrams(dic):\n",
        "  for v in d.values():\n",
        "    print(len(v),v)\n",
        "\n",
        "def print_anagrams_inorder(dic):\n",
        "  t = []\n",
        "  for v in d.values():\n",
        "    t.append(len(v),v)\n",
        "  t.sort(reverse=True)\n",
        "  for x in t:\n",
        "    print(x)\n",
        "\n",
        "def scrabble(dic,n):\n",
        "  d = {}\n",
        "  for key in dic:\n",
        "    if len(key)==n:\n",
        "      d[key]=dic[key]\n",
        "  t = []\n",
        "  for v in d.values():\n",
        "    t.append(len(v),v)\n",
        "  t.sort(reverse=True)\n",
        "  for x in t:\n",
        "    print(x)  \n",
        "  \n",
        "\n",
        "\n",
        "\n",
        "\n",
        "\n",
        "\n",
        "    \n",
        "\n",
        "\n",
        "\n",
        "\n"
      ],
      "execution_count": 0,
      "outputs": []
    }
  ]
}