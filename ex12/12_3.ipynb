{
  "nbformat": 4,
  "nbformat_minor": 0,
  "metadata": {
    "colab": {
      "name": "12-3.ipynb",
      "provenance": [],
      "collapsed_sections": [],
      "include_colab_link": true
    },
    "kernelspec": {
      "name": "python3",
      "display_name": "Python 3"
    }
  },
  "cells": [
    {
      "cell_type": "markdown",
      "metadata": {
        "id": "view-in-github",
        "colab_type": "text"
      },
      "source": [
        "<a href=\"https://colab.research.google.com/github/ellenttkl/Think-Python-E2-Solutions/blob/master/ex12/12_3.ipynb\" target=\"_parent\"><img src=\"https://colab.research.google.com/assets/colab-badge.svg\" alt=\"Open In Colab\"/></a>"
      ]
    },
    {
      "cell_type": "markdown",
      "metadata": {
        "id": "YHJ_lzzMMpbP",
        "colab_type": "text"
      },
      "source": [
        "Two words form a “metathesis pair” if you can transform one into the other by swapping two letters; for example, “converse” and “conserve”. Write a program that finds all of the metathesis pairs in the dictionary. Hint: don’t test all pairs of words, and don’t test all possible swaps."
      ]
    },
    {
      "cell_type": "code",
      "metadata": {
        "id": "PCt7DQUEM-3s",
        "colab_type": "code",
        "colab": {}
      },
      "source": [
        "ef find_anagrams():\n",
        "  d = {}\n",
        "  fin = open('words.txt')\n",
        "  for line in fin:\n",
        "    word = line.strip().lower()\n",
        "    s = signature(word)\n",
        "    d[s] = d.get(s,[]).append([word])\n",
        "  return d\n",
        "\n",
        "def word_distance(word1,word2):\n",
        "  count = 0\n",
        "  for c1,c2 in zip(word1,word2):\n",
        "    if c1 != c2:\n",
        "      count += 1\n",
        "  return count\n",
        "\n",
        "def metathesis_pair(d):\n",
        "  for anagrams in d.values():\n",
        "    for word1 in anagrams:\n",
        "      if word2 in anagrams:\n",
        "        if word_distance(word1,word2)==2:\n",
        "          print(word1,word2)\n",
        "\n",
        "anagrams_dic = find_anagrams()\n",
        "metathesis_pair(anagrams_dic)\n"
      ],
      "execution_count": 0,
      "outputs": []
    }
  ]
}