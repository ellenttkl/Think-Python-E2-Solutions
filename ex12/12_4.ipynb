{
  "nbformat": 4,
  "nbformat_minor": 0,
  "metadata": {
    "colab": {
      "name": "12-4.ipynb",
      "provenance": [],
      "collapsed_sections": [],
      "include_colab_link": true
    },
    "kernelspec": {
      "name": "python3",
      "display_name": "Python 3"
    }
  },
  "cells": [
    {
      "cell_type": "markdown",
      "metadata": {
        "id": "view-in-github",
        "colab_type": "text"
      },
      "source": [
        "<a href=\"https://colab.research.google.com/github/ellenttkl/Think-Python-E2-Solutions/blob/master/ex12/12_4.ipynb\" target=\"_parent\"><img src=\"https://colab.research.google.com/assets/colab-badge.svg\" alt=\"Open In Colab\"/></a>"
      ]
    },
    {
      "cell_type": "markdown",
      "metadata": {
        "id": "kgO213tcf2eS",
        "colab_type": "text"
      },
      "source": [
        "Here’s another Car Talk Puzzler (http://www.cartalk.com/content/puzzlers):\n",
        "\n",
        "What is the longest English word, that remains a valid English word, as you remove its letters one at a time?\n",
        "Now, letters can be removed from either end, or the middle, but you can’t rearrange any of the letters. Every time you drop a letter, you wind up with another English word. If you do that, you’re eventually going to wind up with one letter and that too is going to be an English word—one that’s found in the dictionary. I want to know what’s the longest word and how many letters does it have?\n",
        "\n",
        "I’m going to give you a little modest example: Sprite. Ok? You start off with sprite, you take a letter off, one from the interior of the word, take the r away, and we’re left with the word spite, then we take the e off the end, we’re left with spit, we take the s off, we’re left with pit, it, and I.\n",
        "\n",
        "\n",
        "Write a program to find all words that can be reduced in this way, and then find the longest one.\n",
        "\n",
        "This exercise is a little more challenging than most, so here are some suggestions:\n",
        "\n",
        "You might want to write a function that takes a word and computes a list of all the words that can be formed by removing one letter. These are the “children” of the word.\n",
        "Recursively, a word is reducible if any of its children are reducible. As a base case, you can consider the empty string reducible.\n",
        "\n",
        "The wordlist I provided, words.txt, doesn’t contain single letter words. So you might want to add “I”, “a”, and the empty string.\n",
        "\n",
        "To improve the performance of your program, you might want to memoize the words that are known to be reducible."
      ]
    },
    {
      "cell_type": "code",
      "metadata": {
        "id": "_IqVCw4qM4jY",
        "colab_type": "code",
        "colab": {}
      },
      "source": [
        "def word_dict():\n",
        "  fin = open('words.txt')\n",
        "  d = {}\n",
        "  for line in fin:\n",
        "    word = line.strip().lower()\n",
        "    d[word] = None\n",
        "  d.update({'a':None})\n",
        "  d.update({'':None})\n",
        "  d.update({'i':None})\n",
        "  return d\n",
        "\n",
        "def words_children(word,word_dict):\n",
        "  s = []\n",
        "  for i in range(len(word)):\n",
        "    new_word = word[:i] + word[i+1:]\n",
        "    if new_wrod in word_dict:\n",
        "      s.append(new_word)\n",
        "  return s\n",
        "\n",
        "memo = {}\n",
        "memo[''] = ''\n",
        "\n",
        "def is_reducible(word,word_dict):\n",
        "  if word in memo:\n",
        "    return memo[word]\n",
        "  \n",
        "  res = []\n",
        "  for child in words_children(word,word_dict):\n",
        "    if is_reducible(child,word_dict):\n",
        "      res.append(child)\n",
        "  memo[word] = res\n",
        "  return res\n",
        "\n",
        "def reducible_words(word_dict):\n",
        "  res = []\n",
        "  for word in word_dict:\n",
        "    t = is_reducible(word,word_dict)\n",
        "    if t != []\n",
        "    res.append(word)\n",
        "\n",
        "def print_trail(word,word_dict):\n",
        "  if len(word)==0:\n",
        "    return\n",
        "  print(word)\n",
        "  t = is_reducible(word,word_dict)\n",
        "  print(t[0])\n",
        "\n",
        "def print_longest(word_dict):\n",
        "  t = []\n",
        "  words = reducible_words(word_dict):\n",
        "  for word in words:\n",
        "    t.append((len(word),word))\n",
        "  t.sort(reverse=True)\n",
        "  for a,b in t[0:5]:\n",
        "    print_trail(b,word_dict)\n",
        "\n",
        "word_dict = word_dict()\n",
        "print_longest(word_dict)\n",
        "\n"
      ],
      "execution_count": 0,
      "outputs": []
    }
  ]
}