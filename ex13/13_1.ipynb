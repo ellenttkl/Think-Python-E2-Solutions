{
  "nbformat": 4,
  "nbformat_minor": 0,
  "metadata": {
    "colab": {
      "name": "13-1.ipynb",
      "provenance": [],
      "collapsed_sections": [],
      "include_colab_link": true
    },
    "kernelspec": {
      "name": "python3",
      "display_name": "Python 3"
    }
  },
  "cells": [
    {
      "cell_type": "markdown",
      "metadata": {
        "id": "view-in-github",
        "colab_type": "text"
      },
      "source": [
        "<a href=\"https://colab.research.google.com/github/ellenttkl/Think-Python-E2-Solutions/blob/master/ex13/13_1.ipynb\" target=\"_parent\"><img src=\"https://colab.research.google.com/assets/colab-badge.svg\" alt=\"Open In Colab\"/></a>"
      ]
    },
    {
      "cell_type": "markdown",
      "metadata": {
        "id": "fkjP4MgLOr7n",
        "colab_type": "text"
      },
      "source": [
        "Write a program that reads a file, breaks each line into words, strips whitespace and punctuation from the words, and converts them to lowercase.\n",
        "\n",
        "Hint: The string module provides a string named whitespace, which contains space, tab, newline, etc., and punctuation which contains the punctuation characters.\n",
        "\n",
        "Also, you might consider using the string methods strip, replace and translate."
      ]
    },
    {
      "cell_type": "code",
      "metadata": {
        "id": "-vL71XVH4bL2",
        "colab_type": "code",
        "colab": {}
      },
      "source": [
        "import string\n",
        "\n",
        "def read_file():\n",
        "  fin = open('article.txt')\n",
        "  for line in fin:\n",
        "    translation = line.maketrans('','',string.punctuation)\n",
        "    n_line = line.translate(translation)\n",
        "    t = n_line.split()\n",
        "    for ele in t:\n",
        "      word = ele.strip().lower()\n",
        "      print(word,end=' ')\n",
        "\n",
        "    \n"
      ],
      "execution_count": 0,
      "outputs": []
    }
  ]
}