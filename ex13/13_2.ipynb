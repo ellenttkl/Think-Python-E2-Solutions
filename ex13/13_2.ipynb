{
  "nbformat": 4,
  "nbformat_minor": 0,
  "metadata": {
    "colab": {
      "name": "13-2.ipynb",
      "provenance": [],
      "collapsed_sections": [],
      "include_colab_link": true
    },
    "kernelspec": {
      "name": "python3",
      "display_name": "Python 3"
    }
  },
  "cells": [
    {
      "cell_type": "markdown",
      "metadata": {
        "id": "view-in-github",
        "colab_type": "text"
      },
      "source": [
        "<a href=\"https://colab.research.google.com/github/ellenttkl/Think-Python-E2-Solutions/blob/master/ex13/13_2.ipynb\" target=\"_parent\"><img src=\"https://colab.research.google.com/assets/colab-badge.svg\" alt=\"Open In Colab\"/></a>"
      ]
    },
    {
      "cell_type": "markdown",
      "metadata": {
        "id": "yCZIn7f6TqE4",
        "colab_type": "text"
      },
      "source": [
        "Go to Project Gutenberg (http://gutenberg.org) and download your favorite out-of-copyright book in plain text format.\n",
        "\n",
        "Modify your program from the previous exercise to read the book you downloaded, skip over the header information at the beginning of the file, and process the rest of the words as before.\n",
        "\n",
        "Then modify the program to count the total number of words in the book, and the number of times each word is used.\n",
        "\n",
        "Print the number of different words used in the book. Compare different books by different authors, written in different eras. Which author uses the most extensive vocabulary?"
      ]
    },
    {
      "cell_type": "code",
      "metadata": {
        "id": "j6P1zwU3QxmV",
        "colab_type": "code",
        "colab": {}
      },
      "source": [
        "import string\n",
        "\n",
        "def count_words():\n",
        "  d = {}\n",
        "  total_count = 0\n",
        "  fin = open('article.txt')\n",
        "  for line in fin:\n",
        "    translation = line.maketrans('','',string.punctuation)\n",
        "    n_line = line.translate(translation)\n",
        "    t = n_line.split()\n",
        "    for ele in t:\n",
        "      total_count += 1\n",
        "      word = ele.strip().lower()\n",
        "      d[word] = d.get(word,0)+1\n",
        "  diff_word_count = len(d)\n",
        "  return total_count,diff_word_count\n"
      ],
      "execution_count": 0,
      "outputs": []
    }
  ]
}