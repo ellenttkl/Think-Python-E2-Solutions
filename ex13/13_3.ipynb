{
  "nbformat": 4,
  "nbformat_minor": 0,
  "metadata": {
    "colab": {
      "name": "13-3.ipynb",
      "provenance": [],
      "collapsed_sections": [],
      "include_colab_link": true
    },
    "kernelspec": {
      "name": "python3",
      "display_name": "Python 3"
    }
  },
  "cells": [
    {
      "cell_type": "markdown",
      "metadata": {
        "id": "view-in-github",
        "colab_type": "text"
      },
      "source": [
        "<a href=\"https://colab.research.google.com/github/ellenttkl/Think-Python-E2-Solutions/blob/master/ex13/13_3.ipynb\" target=\"_parent\"><img src=\"https://colab.research.google.com/assets/colab-badge.svg\" alt=\"Open In Colab\"/></a>"
      ]
    },
    {
      "cell_type": "markdown",
      "metadata": {
        "id": "fkNICp_3X7yo",
        "colab_type": "text"
      },
      "source": [
        "Modify the program from the previous exercise to print the 20 most frequently used words in the book."
      ]
    },
    {
      "cell_type": "code",
      "metadata": {
        "id": "otKTeUcnUJlx",
        "colab_type": "code",
        "colab": {}
      },
      "source": [
        "import string\n",
        "\n",
        "def count_words(file_name):\n",
        "  d = {}\n",
        "  total_count = 0\n",
        "  fin = open(file_name)\n",
        "  for line in fin:\n",
        "    translation = line.maketrans('','',string.punctuation)\n",
        "    n_line = line.translate(translation)\n",
        "    t = n_line.split()\n",
        "    for ele in t:\n",
        "      total_count += 1\n",
        "      word = ele.strip().lower()\n",
        "      d[word] = d.get(word,0)+1\n",
        "\n",
        "  return d,total_count\n",
        "\n",
        "d,count = count_words(file_name)\n",
        "t = []\n",
        "for word,c in d.items():\n",
        "  t.append(c,word)\n",
        "t.sort(reverse=True)\n",
        "for i in range(20):\n",
        "  print(t[i][1])\n"
      ],
      "execution_count": 0,
      "outputs": []
    }
  ]
}