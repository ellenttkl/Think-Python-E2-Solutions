{
  "nbformat": 4,
  "nbformat_minor": 0,
  "metadata": {
    "colab": {
      "name": "13-4.ipynb",
      "provenance": [],
      "collapsed_sections": [],
      "include_colab_link": true
    },
    "kernelspec": {
      "name": "python3",
      "display_name": "Python 3"
    }
  },
  "cells": [
    {
      "cell_type": "markdown",
      "metadata": {
        "id": "view-in-github",
        "colab_type": "text"
      },
      "source": [
        "<a href=\"https://colab.research.google.com/github/ellenttkl/Think-Python-E2-Solutions/blob/master/ex13/13_4.ipynb\" target=\"_parent\"><img src=\"https://colab.research.google.com/assets/colab-badge.svg\" alt=\"Open In Colab\"/></a>"
      ]
    },
    {
      "cell_type": "markdown",
      "metadata": {
        "id": "HR3AoCr4cH-0",
        "colab_type": "text"
      },
      "source": [
        "Modify the previous program to read a word list (see Section 9.1) and then print all the words in the book that are not in the word list. How many of them are typos? How many of them are common words that should be in the word list, and how many of them are really obscure?"
      ]
    },
    {
      "cell_type": "code",
      "metadata": {
        "id": "-LAOcFsOYSC0",
        "colab_type": "code",
        "colab": {}
      },
      "source": [
        "import string\n",
        "\n",
        "def word_list():\n",
        "  fin = open('words.txt')\n",
        "  d = {}\n",
        "  for line in fin:\n",
        "    word = line.strip().lower()\n",
        "    d[word] = None\n",
        "  return d\n",
        "\n",
        "def count_words(file_name):\n",
        "  d = {}\n",
        "  total_count = 0\n",
        "  fin = open(file_name)\n",
        "  for line in fin:\n",
        "    translation = line.maketrans('','',string.punctuation)\n",
        "    n_line = line.translate(translation)\n",
        "    t = n_line.split()\n",
        "    for ele in t:\n",
        "      total_count += 1\n",
        "      word = ele.strip().lower()\n",
        "      d[word] = d.get(word,0)+1\n",
        "\n",
        "  return d,total_count\n",
        "\n",
        "word_dic = word_list()\n",
        "book_dic,total_count = count_words(file_name)\n",
        "\n",
        "count = 0\n",
        "for word,c in book_dic.items():\n",
        "  if word not in word_dic:\n",
        "    count += 1\n",
        "    print(word)\n",
        "print count "
      ],
      "execution_count": 0,
      "outputs": []
    }
  ]
}