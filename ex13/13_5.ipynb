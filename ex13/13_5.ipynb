{
  "nbformat": 4,
  "nbformat_minor": 0,
  "metadata": {
    "colab": {
      "name": "13-5.ipynb",
      "provenance": [],
      "collapsed_sections": [],
      "include_colab_link": true
    },
    "kernelspec": {
      "name": "python3",
      "display_name": "Python 3"
    }
  },
  "cells": [
    {
      "cell_type": "markdown",
      "metadata": {
        "id": "view-in-github",
        "colab_type": "text"
      },
      "source": [
        "<a href=\"https://colab.research.google.com/github/ellenttkl/Think-Python-E2-Solutions/blob/master/ex13/13_5.ipynb\" target=\"_parent\"><img src=\"https://colab.research.google.com/assets/colab-badge.svg\" alt=\"Open In Colab\"/></a>"
      ]
    },
    {
      "cell_type": "markdown",
      "metadata": {
        "id": "Bl5Q4pLbXr_f",
        "colab_type": "text"
      },
      "source": [
        "Write a function named choose_from_hist that takes a histogram as defined in Section 11.2 and returns a random value from the histogram, chosen with probability in proportion to frequency."
      ]
    },
    {
      "cell_type": "code",
      "metadata": {
        "id": "0F9rR_3Uebf7",
        "colab_type": "code",
        "colab": {}
      },
      "source": [
        "import random\n",
        "\n",
        "def choose_from_hist(hist):\n",
        "  t = []\n",
        "  for k,v in hist.items():\n",
        "    t += v*[k]\n",
        "  s = random.choice(t)\n",
        "  return s"
      ],
      "execution_count": 0,
      "outputs": []
    }
  ]
}