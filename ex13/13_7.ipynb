{
  "nbformat": 4,
  "nbformat_minor": 0,
  "metadata": {
    "colab": {
      "name": "13-7.ipynb",
      "provenance": [],
      "collapsed_sections": [],
      "include_colab_link": true
    },
    "kernelspec": {
      "name": "python3",
      "display_name": "Python 3"
    }
  },
  "cells": [
    {
      "cell_type": "markdown",
      "metadata": {
        "id": "view-in-github",
        "colab_type": "text"
      },
      "source": [
        "<a href=\"https://colab.research.google.com/github/ellenttkl/Think-Python-E2-Solutions/blob/master/ex13/13_7.ipynb\" target=\"_parent\"><img src=\"https://colab.research.google.com/assets/colab-badge.svg\" alt=\"Open In Colab\"/></a>"
      ]
    },
    {
      "cell_type": "markdown",
      "metadata": {
        "id": "C2K-sdRQy-56",
        "colab_type": "text"
      },
      "source": [
        "To choose a random word from the histogram, the simplest algorithm is to build a list with multiple copies of each word, according to the observed frequency, and then choose from the list.\n",
        "\n",
        "An alternative is:\n",
        "\n",
        "1)Use keys to get a list of the words in the book.\n",
        "\n",
        "2)Build a list that contains the cumulative sum of the word frequencies. The last item in this list is the total number of words in the book, n.\n",
        "\n",
        "3)Choose a random number from 1 to n. Use a bisection search (See Exercise 10) to find the index where the random number would be inserted in the cumulative sum.\n",
        "\n",
        "4)Use the index to find the corresponding word in the word list.\n",
        " \n",
        "Write a program that uses this algorithm to choose a random word from the book"
      ]
    },
    {
      "cell_type": "code",
      "metadata": {
        "id": "VtpotSCkaWPc",
        "colab_type": "code",
        "colab": {}
      },
      "source": [
        "import bisect\n",
        "import random\n",
        "\n",
        "def random_word(book_dict):\n",
        "  book_list = list(book_dict.keys())\n",
        "  sum = 0\n",
        "  cumulative_sum = []\n",
        "  for v in book_dict.values():\n",
        "    sum += v\n",
        "    cumulative_sum.append(sum)\n",
        "  random_number = random.choice(range(1,sum+1))\n",
        "  num_index = bisect.bisect_left(cumulative_sum,random_number)\n",
        "  word = book_list[num_index]\n",
        "  return word\n"
      ],
      "execution_count": 0,
      "outputs": []
    }
  ]
}