{
  "nbformat": 4,
  "nbformat_minor": 0,
  "metadata": {
    "colab": {
      "name": "13-8.ipynb",
      "provenance": [],
      "collapsed_sections": [],
      "include_colab_link": true
    },
    "kernelspec": {
      "name": "python3",
      "display_name": "Python 3"
    }
  },
  "cells": [
    {
      "cell_type": "markdown",
      "metadata": {
        "id": "view-in-github",
        "colab_type": "text"
      },
      "source": [
        "<a href=\"https://colab.research.google.com/github/ellenttkl/Think-Python-E2-Solutions/blob/master/ex13/13_8.ipynb\" target=\"_parent\"><img src=\"https://colab.research.google.com/assets/colab-badge.svg\" alt=\"Open In Colab\"/></a>"
      ]
    },
    {
      "cell_type": "markdown",
      "metadata": {
        "id": "4z_cXnTH87AW",
        "colab_type": "text"
      },
      "source": [
        "Markov analysis:"
      ]
    },
    {
      "cell_type": "code",
      "metadata": {
        "id": "pPr0b6toz1mW",
        "colab_type": "code",
        "colab": {}
      },
      "source": [
        "import string\n",
        "import random\n",
        "import sys\n",
        "\n",
        "prefix = ()\n",
        "suffix_map = {}\n",
        "\n",
        "def process_file(file_name,order=2):\n",
        "  fin = open(file_name)\n",
        "  skip_header(fin)\n",
        "  for line in fin:\n",
        "    if line.stratswith('***END OF THIS'):\n",
        "      break\n",
        "    for word in line.rstrip().split():\n",
        "      process_word(word,order)\n",
        "\n",
        "def skip_header(fin):\n",
        "  for line in fin:\n",
        "    if line.startswith('***STARTS WITH THIS'):\n",
        "      break\n",
        "\n",
        "def process_word(word,order=2):\n",
        "  if len(prefix)<2:\n",
        "    prefix += (word,)\n",
        "    return\n",
        "\n",
        "  try:\n",
        "    suffix_map[prefix].append(word)\n",
        "  except Keyerror：\n",
        "    suffix_map[prefix] = [word]\n",
        "\n",
        "  prefix = shift(prefix,word)\n",
        "  \n",
        "def shift(s,word):\n",
        "  t = s[1:] + (word,)\n",
        "  return t\n",
        "\n",
        "def random_text(n=100):\n",
        "  start = random.choice(list(suffix_map.keys()))\n",
        "  for i in range(n):\n",
        "    suffix = suffix_map.get(start,None)\n",
        "    if suffix = None:\n",
        "      random_text(n-i)\n",
        "      return\n",
        "    word = random.choice(suffix)\n",
        "    print(word,end=' ')\n",
        "    start = shift(start,word)\n",
        "\n",
        "def main(file_name='emma.txt', n=100, order=2):\n",
        "  process_file(file_name,order=2)\n",
        "  random_text(n=100)\n",
        "\n",
        "main()"
      ],
      "execution_count": 0,
      "outputs": []
    }
  ]
}