{
  "nbformat": 4,
  "nbformat_minor": 0,
  "metadata": {
    "colab": {
      "name": "13-9.ipynb",
      "provenance": [],
      "collapsed_sections": [],
      "include_colab_link": true
    },
    "kernelspec": {
      "name": "python3",
      "display_name": "Python 3"
    }
  },
  "cells": [
    {
      "cell_type": "markdown",
      "metadata": {
        "id": "view-in-github",
        "colab_type": "text"
      },
      "source": [
        "<a href=\"https://colab.research.google.com/github/ellenttkl/Think-Python-E2-Solutions/blob/master/ex13/13_9.ipynb\" target=\"_parent\"><img src=\"https://colab.research.google.com/assets/colab-badge.svg\" alt=\"Open In Colab\"/></a>"
      ]
    },
    {
      "cell_type": "markdown",
      "metadata": {
        "id": "Tlj8__aHHQkz",
        "colab_type": "text"
      },
      "source": [
        "write a program that reads a text from a file, counts word frequencies, and prints one line for each word, in descending order of frequency"
      ]
    },
    {
      "cell_type": "code",
      "metadata": {
        "id": "7N6szc1H_gM5",
        "colab_type": "code",
        "colab": {}
      },
      "source": [
        "def read_file(file_name):\n",
        "  d = {}\n",
        "  fin = open(file_name):\n",
        "  for line in fin:\n",
        "    process_line(line,d)\n",
        "  return d\n",
        "\n",
        "def process_line(line,d):\n",
        "  line = line.replace('-',' ')\n",
        "  for word in line.split():\n",
        "    word = word.strip(string.punctuation + string.whitespace)\n",
        "    word = word.lower()\n",
        "    d[word] = d.get(word,0) + 1\n",
        "\n",
        "d = read_file(file_name)\n",
        "y = sorted(d.items(),key=operator.itemgetter(1),reverse = True)\n",
        "for i in range(len(y)):\n",
        "  print(y[i][1]*y[i][0])\n",
        "\n"
      ],
      "execution_count": 0,
      "outputs": []
    }
  ]
}