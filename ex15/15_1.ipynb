{
  "nbformat": 4,
  "nbformat_minor": 0,
  "metadata": {
    "colab": {
      "name": "15-1.ipynb",
      "provenance": [],
      "collapsed_sections": [],
      "include_colab_link": true
    },
    "kernelspec": {
      "name": "python3",
      "display_name": "Python 3"
    }
  },
  "cells": [
    {
      "cell_type": "markdown",
      "metadata": {
        "id": "view-in-github",
        "colab_type": "text"
      },
      "source": [
        "<a href=\"https://colab.research.google.com/github/ellenttkl/Think-Python-E2-Solutions/blob/master/ex15/15_1.ipynb\" target=\"_parent\"><img src=\"https://colab.research.google.com/assets/colab-badge.svg\" alt=\"Open In Colab\"/></a>"
      ]
    },
    {
      "cell_type": "markdown",
      "metadata": {
        "id": "4ur2o0DX0fNR",
        "colab_type": "text"
      },
      "source": [
        "Write a definition for a class named Circle with attributes center and radius, where center is a Point object and radius is a number.\n",
        "\n",
        "Instantiate a Circle object that represents a circle with its center at (150, 100) and radius 75.\n",
        "\n",
        "Write a function named point_in_circle that takes a Circle and a Point and returns True if the Point lies in or on the boundary of the circle.\n",
        "\n",
        "Write a function named rect_in_circle that takes a Circle and a Rectangle and returns True if the Rectangle lies entirely in or on the boundary of the circle.\n",
        "\n",
        "Write a function named rect_circle_overlap that takes a Circle and a Rectangle and returns True if any of the corners of the Rectangle fall inside the circle. Or as a more challenging version, return True if any part of the Rectangle falls inside the circle."
      ]
    },
    {
      "cell_type": "code",
      "metadata": {
        "id": "mCU7xisskFwt",
        "colab_type": "code",
        "colab": {
          "base_uri": "https://localhost:8080/",
          "height": 50
        },
        "outputId": "d2768e16-efca-42c8-9f02-57c773d2b927"
      },
      "source": [
        "import math\n",
        "import copy\n",
        "\n",
        "class Circle:\n",
        "  \"\"\"Represent a circle.\n",
        "  Attributes: center,r\"\"\"\n",
        "class Point:\n",
        "  \"\"\"Represent a point.\n",
        "  Attributes: x ,y\"\"\"\n",
        "class Rectangle:\n",
        "  \"\"\"Represent a rectangle.\n",
        "  Attributes: w,h,corner\"\"\"\n",
        "\n",
        "def point_in_circle(cir,p):\n",
        "  x_diff = cir.center.x - p.x\n",
        "  y_diff = cir.center.y - p.y\n",
        "  d = math.sqrt(x_diff**2 + y_diff**2)\n",
        "  if d <= cir.r:\n",
        "    return True\n",
        "  return False\n",
        "\n",
        "def rect_in_circle(cir,rect):\n",
        "  p = copy.copy(rect.corner)\n",
        "  if point_in_circle(cir,p):\n",
        "    return True\n",
        "  p.x += rect.w\n",
        "  if point_in_circle(cir,p):\n",
        "    return True\n",
        "  p.y += rect.h\n",
        "  if point_in_circle(cir,p):\n",
        "    return True\n",
        "  p.x -= rect.w\n",
        "  if point_in_circle(cir,p):\n",
        "    return True\n",
        "  return False\n",
        "\n",
        "def main():\n",
        "  cir = Circle()\n",
        "  cir.r =  75\n",
        "  cir.center = Point()\n",
        "  cir.center.x = 150\n",
        "  cir.center.y = 100\n",
        "\n",
        "  rect = Rectangle()\n",
        "  rect.w = 100\n",
        "  rect.h = 200\n",
        "  rect.corner = Point()\n",
        "  rect.corner.x = 50\n",
        "  rect.corner.y = 50\n",
        "  \n",
        "  print(point_in_circle(cir,rect.corner))\n",
        "  print(rect_in_circle(cir,rect))\n",
        "\n",
        "if __name__ == '__main__':\n",
        "  main()\n",
        "\n"
      ],
      "execution_count": 1,
      "outputs": [
        {
          "output_type": "stream",
          "text": [
            "False\n",
            "True\n"
          ],
          "name": "stdout"
        }
      ]
    },
    {
      "cell_type": "code",
      "metadata": {
        "id": "7_Ec-Qe10b5S",
        "colab_type": "code",
        "colab": {}
      },
      "source": [
        ""
      ],
      "execution_count": 0,
      "outputs": []
    }
  ]
}