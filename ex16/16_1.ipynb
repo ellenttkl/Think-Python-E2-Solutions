{
  "nbformat": 4,
  "nbformat_minor": 0,
  "metadata": {
    "colab": {
      "name": "16-1.ipynb",
      "provenance": [],
      "collapsed_sections": [],
      "include_colab_link": true
    },
    "kernelspec": {
      "name": "python3",
      "display_name": "Python 3"
    }
  },
  "cells": [
    {
      "cell_type": "markdown",
      "metadata": {
        "id": "view-in-github",
        "colab_type": "text"
      },
      "source": [
        "<a href=\"https://colab.research.google.com/github/ellenttkl/Think-Python-E2-Solutions/blob/master/ex16/16_1.ipynb\" target=\"_parent\"><img src=\"https://colab.research.google.com/assets/colab-badge.svg\" alt=\"Open In Colab\"/></a>"
      ]
    },
    {
      "cell_type": "markdown",
      "metadata": {
        "id": "8TP9dxPCjjeN",
        "colab_type": "text"
      },
      "source": [
        "Write a definition for a class named Circle with attributes center and radius, where center is a Point object and radius is a number.\n",
        "\n",
        "Instantiate a Circle object that represents a circle with its center at (150, 100) and radius 75.\n",
        "\n",
        "Write a function named point_in_circle that takes a Circle and a Point and returns True if the Point lies in or on the boundary of the circle.\n",
        "\n",
        "Write a function named rect_in_circle that takes a Circle and a Rectangle and returns True if the Rectangle lies entirely in or on the boundary of the circle.\n",
        "\n",
        "Write a function named rect_circle_overlap that takes a Circle and a Rectangle and returns True if any of the corners of the Rectangle fall inside the circle. Or as a more challenging version, return True if any part of the Rectangle falls inside the circle."
      ]
    },
    {
      "cell_type": "code",
      "metadata": {
        "id": "3Bzzm4pDPY9Y",
        "colab_type": "code",
        "colab": {}
      },
      "source": [
        "\n",
        "class Time():\n",
        "  \"\"\"Represents the time of day.\n",
        "  Attributes:hour,minutes,seconds\"\"\"\n",
        "\n",
        "def time_to_int(time):\n",
        "  minutes = time.hour*60 + time.minutes\n",
        "  seconds = minutes*60 + time.seconds\n",
        "  return seconds\n",
        "\n",
        "def int_to_time(seconds):\n",
        "  time = Time()\n",
        "  minutes,time.seconds = divmod(seconds,60)\n",
        "  time.hour,time.minutes = divmod(minutes,60)\n",
        "  return time\n",
        "\n",
        "def mul_time(time,n):\n",
        "  seconds = time_to_int(time) * n\n",
        "  return int_to_time(seconds)\n",
        "\n",
        "def average_pace(time,d):\n",
        "  seconds = time_to_int(time)\n",
        "  seconds_per_mile = seconds/d\n",
        "  return int_to_time(seconds_per_mile)\n",
        "\n",
        "def main():\n",
        "  time = Time()\n",
        "  time.hour = 1\n",
        "  time.minutes = 50\n",
        "  time.seconds = 30\n",
        "\n",
        "  mul_time(time,5)\n",
        "\n",
        "  average_pace(time,30)\n",
        "\n",
        "if __name__ == '__main__':\n",
        "  main()\n",
        "\n"
      ],
      "execution_count": 0,
      "outputs": []
    },
    {
      "cell_type": "code",
      "metadata": {
        "id": "Qdfqz8N4jaFv",
        "colab_type": "code",
        "colab": {}
      },
      "source": [
        ""
      ],
      "execution_count": 0,
      "outputs": []
    }
  ]
}