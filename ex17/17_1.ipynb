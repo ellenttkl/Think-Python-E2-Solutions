{
  "nbformat": 4,
  "nbformat_minor": 0,
  "metadata": {
    "colab": {
      "name": "17-1.ipynb",
      "provenance": [],
      "collapsed_sections": [],
      "include_colab_link": true
    },
    "kernelspec": {
      "name": "python3",
      "display_name": "Python 3"
    }
  },
  "cells": [
    {
      "cell_type": "markdown",
      "metadata": {
        "id": "view-in-github",
        "colab_type": "text"
      },
      "source": [
        "<a href=\"https://colab.research.google.com/github/ellenttkl/Think-Python-E2-Solutions/blob/master/ex17/17_1.ipynb\" target=\"_parent\"><img src=\"https://colab.research.google.com/assets/colab-badge.svg\" alt=\"Open In Colab\"/></a>"
      ]
    },
    {
      "cell_type": "markdown",
      "metadata": {
        "id": "D_0e8REezv3d",
        "colab_type": "text"
      },
      "source": [
        "Download the code from this chapter from http://thinkpython2.com/code/Time2.py. Change the attributes of Time to be a single integer representing seconds since midnight. Then modify the methods (and the function int_to_time) to work with the new implementation. You should not have to modify the test code in main. When you are done, the output should be the same as before."
      ]
    },
    {
      "cell_type": "code",
      "metadata": {
        "id": "mK39LQkKQ_AB",
        "colab_type": "code",
        "colab": {
          "base_uri": "https://localhost:8080/",
          "height": 202
        },
        "outputId": "4ab0753d-7722-4299-c2e8-b802db51d288"
      },
      "source": [
        "from __future__ import print_function, division\n",
        "\n",
        "\n",
        "class Time:\n",
        "    \"\"\"Represents the time of day.\n",
        "       \n",
        "    attributes: hour, minute, second\n",
        "    \"\"\"\n",
        "    def __init__(self, hour=0, minute=0, second=0):\n",
        "        \"\"\"Initializes a time object.\n",
        "\n",
        "        hour: int\n",
        "        minute: int\n",
        "        second: int or float\n",
        "        \"\"\"\n",
        "        minutes = hour * 60 + minute\n",
        "        self.second = minutes * 60 + second\n",
        "\n",
        "    def __str__(self):\n",
        "        \"\"\"Returns a string representation of the time.\"\"\"\n",
        "        minutes,second = divmod(self.second, 60)\n",
        "        hour,minute = divmod(minutes,60)\n",
        "        return '%.2d:%.2d:%.2d' % (hour, minute, second)\n",
        "\n",
        "    def print_time(self):\n",
        "        \"\"\"Prints a string representation of the time.\"\"\"\n",
        "        print(self)\n",
        "\n",
        "    def time_to_int(self):\n",
        "        \"\"\"Computes the number of seconds since midnight.\"\"\"\n",
        "        return self.second\n",
        "\n",
        "    def is_after(self, other):\n",
        "        \"\"\"Returns True if t1 is after t2; false otherwise.\"\"\"\n",
        "        return self.second > other.second\n",
        "\n",
        "    def __add__(self, other):\n",
        "        \"\"\"Adds two Time objects or a Time object and a number.\n",
        "\n",
        "        other: Time object or number of seconds\n",
        "        \"\"\"\n",
        "        if isinstance(other, Time):\n",
        "            return self.add_time(other)\n",
        "        else:\n",
        "            return self.increment(other)\n",
        "\n",
        "    def __radd__(self, other):\n",
        "        \"\"\"Adds two Time objects or a Time object and a number.\"\"\"\n",
        "        return self.__add__(other)\n",
        "\n",
        "    def add_time(self, other):\n",
        "        \"\"\"Adds two time objects.\"\"\"\n",
        "        assert self.is_valid() and other.is_valid()\n",
        "        seconds = self.second + other.second\n",
        "        return int_to_time(seconds)\n",
        "\n",
        "    def increment(self, seconds):\n",
        "        \"\"\"Returns a new Time that is the sum of this time and seconds.\"\"\"\n",
        "        seconds += self.second\n",
        "        return int_to_time(seconds)\n",
        "\n",
        "    def is_valid(self):\n",
        "        \"\"\"Checks whether a Time object satisfies the invariants.\"\"\"\n",
        "        if self.second < 0:\n",
        "            return False\n",
        "        if self.second >= 24*60*60:\n",
        "            return False\n",
        "        return True\n",
        "\n",
        "\n",
        "def int_to_time(seconds):\n",
        "    \"\"\"Makes a new Time object.\n",
        "\n",
        "    seconds: int seconds since midnight.\n",
        "    \"\"\"\n",
        "    return Time(0,0,seconds)\n",
        "\n",
        "\n",
        "def main():\n",
        "    start = Time(9, 45, 00)\n",
        "    start.print_time()\n",
        "\n",
        "    end = start.increment(1337)\n",
        "    #end = start.increment(1337, 460)\n",
        "    end.print_time()\n",
        "\n",
        "    print('Is end after start?')\n",
        "    print(end.is_after(start))\n",
        "\n",
        "    print('Using __str__')\n",
        "    print(start, end)\n",
        "\n",
        "    start = Time(9, 45)\n",
        "    duration = Time(1, 35)\n",
        "    print(start + duration)\n",
        "    print(start + 1337)\n",
        "    print(1337 + start)\n",
        "\n",
        "    print('Example of polymorphism')\n",
        "    t1 = Time(7, 43)\n",
        "    t2 = Time(7, 41)\n",
        "    t3 = Time(7, 37)\n",
        "    total = sum([t1, t2, t3])\n",
        "    print(total)\n",
        "\n",
        "\n",
        "if __name__ == '__main__':\n",
        "    main()\n"
      ],
      "execution_count": 3,
      "outputs": [
        {
          "output_type": "stream",
          "text": [
            "09:45:00\n",
            "10:07:17\n",
            "Is end after start?\n",
            "True\n",
            "Using __str__\n",
            "09:45:00 10:07:17\n",
            "11:20:00\n",
            "10:07:17\n",
            "10:07:17\n",
            "Example of polymorphism\n",
            "23:01:00\n"
          ],
          "name": "stdout"
        }
      ]
    },
    {
      "cell_type": "code",
      "metadata": {
        "id": "cjj1Ax2Dsk6z",
        "colab_type": "code",
        "colab": {}
      },
      "source": [
        ""
      ],
      "execution_count": 0,
      "outputs": []
    }
  ]
}