{
  "nbformat": 4,
  "nbformat_minor": 0,
  "metadata": {
    "colab": {
      "name": "17-2.ipynb",
      "provenance": [],
      "collapsed_sections": [],
      "include_colab_link": true
    },
    "kernelspec": {
      "name": "python3",
      "display_name": "Python 3"
    }
  },
  "cells": [
    {
      "cell_type": "markdown",
      "metadata": {
        "id": "view-in-github",
        "colab_type": "text"
      },
      "source": [
        "<a href=\"https://colab.research.google.com/github/ellenttkl/Think-Python-E2-Solutions/blob/master/ex17/17_2.ipynb\" target=\"_parent\"><img src=\"https://colab.research.google.com/assets/colab-badge.svg\" alt=\"Open In Colab\"/></a>"
      ]
    },
    {
      "cell_type": "markdown",
      "metadata": {
        "id": "8jM9s4pvFvSK",
        "colab_type": "text"
      },
      "source": [
        "This exercise is a cautionary tale about one of the most common, and difficult to find, errors in Python. Write a definition for a class named Kangaroo with the following methods:\n",
        "\n",
        "An __init__ method that initializes an attribute named pouch_contents to an empty list.\n",
        "\n",
        "A method named put_in_pouch that takes an object of any type and adds it to pouch_contents.\n",
        "\n",
        "A __str__ method that returns a string representation of the Kangaroo object and the contents of the pouch.\n",
        "Test your code by creating two Kangaroo objects, assigning them to variables named kanga and roo, and then adding roo to the contents of kanga’s pouch."
      ]
    },
    {
      "cell_type": "code",
      "metadata": {
        "id": "j4UevHRY0JAJ",
        "colab_type": "code",
        "outputId": "81f6f6e1-8c51-47ed-f5a3-adb989242a7f",
        "colab": {
          "base_uri": "https://localhost:8080/",
          "height": 50
        }
      },
      "source": [
        "class Kangaroo:\n",
        "  \"\"\"\n",
        "  pouch_contents: None\"\"\"\n",
        "\n",
        "  def __init__(self,name='',pouch_contents=None):\n",
        "    self.name = name\n",
        "    if pouch_contents == None:\n",
        "      pouch_contents = []\n",
        "    self.pouch_contents = pouch_contents\n",
        "  \n",
        "  def __str__(self):\n",
        "    s = ('').join(self.pouch_contents)\n",
        "    return str(s)\n",
        "\n",
        "  def put_in_pouch(self,other):\n",
        "    if isinstance(other,Kangaroo):\n",
        "      for s in other.pouch_contents:\n",
        "        self.pouch_contents.append(s)\n",
        "    self.pouch_contents.append(other)\n",
        "\n",
        "kanga = Kangaroo('kanga',['1','2','3'])\n",
        "kanga.put_in_pouch('4')\n",
        "print(kanga)\n",
        "roo = Kangaroo('roo',['2','3'])\n",
        "print(roo)\n",
        "\n",
        "\n"
      ],
      "execution_count": 27,
      "outputs": [
        {
          "output_type": "stream",
          "text": [
            "1234\n",
            "23\n"
          ],
          "name": "stdout"
        }
      ]
    },
    {
      "cell_type": "code",
      "metadata": {
        "id": "700Eji8C3WLs",
        "colab_type": "code",
        "colab": {}
      },
      "source": [
        ""
      ],
      "execution_count": 0,
      "outputs": []
    }
  ]
}