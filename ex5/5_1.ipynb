{
  "nbformat": 4,
  "nbformat_minor": 0,
  "metadata": {
    "colab": {
      "name": "5-1.ipynb",
      "provenance": [],
      "collapsed_sections": [],
      "include_colab_link": true
    },
    "kernelspec": {
      "name": "python3",
      "display_name": "Python 3"
    }
  },
  "cells": [
    {
      "cell_type": "markdown",
      "metadata": {
        "id": "view-in-github",
        "colab_type": "text"
      },
      "source": [
        "<a href=\"https://colab.research.google.com/github/ellenttkl/Think-Python-E2-Solutions/blob/master/5_1.ipynb\" target=\"_parent\"><img src=\"https://colab.research.google.com/assets/colab-badge.svg\" alt=\"Open In Colab\"/></a>"
      ]
    },
    {
      "cell_type": "markdown",
      "metadata": {
        "id": "dJFV-bxcRgGP",
        "colab_type": "text"
      },
      "source": [
        "Exercise 5.1. The time module provides a function, also named time, that returns the current Greenwich Mean Time in “the epoch”, which is an arbitrary time used as a reference point. On\n",
        "UNIX systems, the epoch is 1 January 1970.\n",
        "\n",
        "Write a script that reads the current time and converts it to a time of day in hours, minutes, and seconds, plus the number of days since the epoch\n",
        ">>> import time\\\n",
        ">>> time.time()\\\n",
        "1437746094.5735958\\\n"
      ]
    },
    {
      "cell_type": "code",
      "metadata": {
        "id": "6hzbAnwKVtRm",
        "colab_type": "code",
        "outputId": "4c43e8f7-d151-44e9-be16-2ec4ad9d6d9c",
        "colab": {
          "base_uri": "https://localhost:8080/",
          "height": 34
        }
      },
      "source": [
        "import time\n",
        "current_time =  time.time()\n",
        "local_time = time.ctime(current_time)\n",
        "print('loca_time is:',local_time)"
      ],
      "execution_count": 0,
      "outputs": [
        {
          "output_type": "stream",
          "text": [
            "loca_time is: Fri Oct  4 15:54:56 2019\n"
          ],
          "name": "stdout"
        }
      ]
    }
  ]
}
