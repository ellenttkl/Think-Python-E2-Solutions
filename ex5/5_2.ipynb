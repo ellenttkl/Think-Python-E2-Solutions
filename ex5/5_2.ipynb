{
  "nbformat": 4,
  "nbformat_minor": 0,
  "metadata": {
    "colab": {
      "name": "5-2.ipynb",
      "provenance": [],
      "include_colab_link": true
    },
    "kernelspec": {
      "name": "python3",
      "display_name": "Python 3"
    }
  },
  "cells": [
    {
      "cell_type": "markdown",
      "metadata": {
        "id": "view-in-github",
        "colab_type": "text"
      },
      "source": [
        "<a href=\"https://colab.research.google.com/github/ellenttkl/Think-Python-E2-Solutions/blob/master/5_2.ipynb\" target=\"_parent\"><img src=\"https://colab.research.google.com/assets/colab-badge.svg\" alt=\"Open In Colab\"/></a>"
      ]
    },
    {
      "cell_type": "markdown",
      "metadata": {
        "id": "4X5god7gXiek",
        "colab_type": "text"
      },
      "source": [
        "Fermat’s Last Theorem says that there are no positive integers a, b, and c such that\n",
        "a** n + b** n = c** n\n",
        "for any values of n greater than 2.\n",
        "1. Write a function named check_fermat that takes four parameters—a, b, c and n—and\n",
        "checks to see if Fermat’s theorem holds. If n is greater than 2 and\n",
        "a**\n",
        "n + b**\n",
        "n = c**\n",
        "n\n",
        "the program should print, “Holy smokes, Fermat was wrong!” Otherwise the program should\n",
        "print, “No, that doesn’t work.”\n",
        "2. Write a function that prompts the user to input values for a, b, c and n, converts them to\n",
        "integers, and uses check_fermat to check whether they violate Fermat’s theorem."
      ]
    },
    {
      "cell_type": "code",
      "metadata": {
        "id": "L-z4yPlGf0S7",
        "colab_type": "code",
        "colab": {}
      },
      "source": [
        "def check_fermat(a,b,c,n):\n",
        "  if (a**n + b**n) == c**n and n>2:\n",
        "    print('Holy smokes, Fermat was wrong!')\n",
        "  else:\n",
        "    print(\"No, that doesn't work.\")  "
      ],
      "execution_count": 0,
      "outputs": []
    },
    {
      "cell_type": "code",
      "metadata": {
        "id": "ROdewG9GiY0F",
        "colab_type": "code",
        "colab": {}
      },
      "source": [
        "def user_input():\n",
        "  a,b,c,n = input('enter the a,b,c,n value:').split()\n",
        "  check_fermat(int(a),int(b),int(c),int(n))"
      ],
      "execution_count": 0,
      "outputs": []
    },
    {
      "cell_type": "code",
      "metadata": {
        "id": "62-kar3QaAT7",
        "colab_type": "code",
        "colab": {
          "base_uri": "https://localhost:8080/",
          "height": 50
        },
        "outputId": "e842b5ea-fa16-4bae-cdfb-54b23840c59c"
      },
      "source": [
        "user_input()"
      ],
      "execution_count": 6,
      "outputs": [
        {
          "output_type": "stream",
          "text": [
            "enter the a,b,c,n value:1 2 3 4\n",
            "No, that doesn't work.\n"
          ],
          "name": "stdout"
        }
      ]
    }
  ]
}
