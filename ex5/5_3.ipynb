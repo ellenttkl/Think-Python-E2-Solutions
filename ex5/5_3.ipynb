{
  "nbformat": 4,
  "nbformat_minor": 0,
  "metadata": {
    "colab": {
      "name": "5-3.ipynb",
      "provenance": [],
      "include_colab_link": true
    },
    "kernelspec": {
      "name": "python3",
      "display_name": "Python 3"
    }
  },
  "cells": [
    {
      "cell_type": "markdown",
      "metadata": {
        "id": "view-in-github",
        "colab_type": "text"
      },
      "source": [
        "<a href=\"https://colab.research.google.com/github/ellenttkl/Think-Python-E2-Solutions/blob/master/5_3.ipynb\" target=\"_parent\"><img src=\"https://colab.research.google.com/assets/colab-badge.svg\" alt=\"Open In Colab\"/></a>"
      ]
    },
    {
      "cell_type": "markdown",
      "metadata": {
        "id": "TvrRPv4Iky9p",
        "colab_type": "text"
      },
      "source": [
        "If you are given three sticks, you may or may not be able to arrange them in a triangle. For example, if one of the sticks is 12 inches long and the other two are one inch long, you will not be able to get the short sticks to meet in the middle. For any three lengths, there is a simple test to see if it is possible to form a triangle:\n",
        "\n",
        "If any of the three lengths is greater than the sum of the other two, then you cannot form a triangle. Otherwise, you can. (If the sum of two lengths equals the third, they form what is called a “degenerate” triangle.)\n",
        "\n",
        "1. Write a function named is_triangle that takes three integers as arguments, and that prints either “Yes” or “No”, depending on whether you can or cannot form a triangle from sticks with the given lengths.\n",
        "\n",
        "2. Write a function that prompts the user to input three stick lengths, converts them to integers, and uses is_triangle to check whether sticks with the given lengths can form a triangle."
      ]
    },
    {
      "cell_type": "code",
      "metadata": {
        "id": "JSqdWbiwijty",
        "colab_type": "code",
        "colab": {}
      },
      "source": [
        "def is_triangle(a,b,c):\n",
        "  if a+b>c and a+c>b and b+c>a:\n",
        "    print('Yes!')\n",
        "  else:\n",
        "    print('No!')"
      ],
      "execution_count": 0,
      "outputs": []
    },
    {
      "cell_type": "code",
      "metadata": {
        "id": "JOBkCstSjqm2",
        "colab_type": "code",
        "colab": {}
      },
      "source": [
        "def input_length():\n",
        "  a,b,c = input('Input the length of a,b,c:').split()\n",
        "  is_triangle(int(a),int(b),int(c))"
      ],
      "execution_count": 0,
      "outputs": []
    },
    {
      "cell_type": "code",
      "metadata": {
        "id": "KWS7tIQTki2b",
        "colab_type": "code",
        "colab": {
          "base_uri": "https://localhost:8080/",
          "height": 50
        },
        "outputId": "8e1a5d09-c560-48cf-b8a4-9f5e81a52a0f"
      },
      "source": [
        "input_length()"
      ],
      "execution_count": 3,
      "outputs": [
        {
          "output_type": "stream",
          "text": [
            "Input the length of a,b,c:3 4 5\n",
            "Yes!\n"
          ],
          "name": "stdout"
        }
      ]
    }
  ]
}
