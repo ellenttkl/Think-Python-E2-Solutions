{
  "nbformat": 4,
  "nbformat_minor": 0,
  "metadata": {
    "colab": {
      "name": "6-3.ipynb",
      "provenance": [],
      "include_colab_link": true
    },
    "kernelspec": {
      "name": "python3",
      "display_name": "Python 3"
    }
  },
  "cells": [
    {
      "cell_type": "markdown",
      "metadata": {
        "id": "view-in-github",
        "colab_type": "text"
      },
      "source": [
        "<a href=\"https://colab.research.google.com/github/ellenttkl/Think-Python-E2-Solutions/blob/master/6_3.ipynb\" target=\"_parent\"><img src=\"https://colab.research.google.com/assets/colab-badge.svg\" alt=\"Open In Colab\"/></a>"
      ]
    },
    {
      "cell_type": "markdown",
      "metadata": {
        "id": "I3mjANYzFZUh",
        "colab_type": "text"
      },
      "source": [
        "A palindrome is a word that is spelled the same backward and forward, like “noon” and “redivider”. Recursively, a word is a palindrome if the first and last letters are the same and the middle is a palindrome.\n",
        "\n",
        "1. Type these functions into a file named palindrome.py and test them out. What happens if you call middle with a string with two letters? One letter? What about the empty string, which is written '' and contains no letters?\n",
        "2. Write a function called is_palindrome that takes a string argument and returns True if it is a palindrome and False otherwise. Remember that you can use the built-in function len to check the length of a string."
      ]
    },
    {
      "cell_type": "code",
      "metadata": {
        "id": "cv-OipEd96Zm",
        "colab_type": "code",
        "colab": {}
      },
      "source": [
        "def first(word):\n",
        "  return word[0]\n",
        "def last(word):\n",
        "  return word[-1]\n",
        "def middle(word):\n",
        "  return word[1:-1]"
      ],
      "execution_count": 0,
      "outputs": []
    },
    {
      "cell_type": "code",
      "metadata": {
        "id": "0k_sWqLY-T3h",
        "colab_type": "code",
        "colab": {}
      },
      "source": [
        "def is_palindrome(s):\n",
        "  if len(s)==0:\n",
        "    return True\n",
        "  else:\n",
        "    if first(s)==last(s) and is_palindrome(middle(s))==True:\n",
        "      return True\n",
        "    return False\n"
      ],
      "execution_count": 0,
      "outputs": []
    },
    {
      "cell_type": "code",
      "metadata": {
        "id": "x164qoq7B-Iu",
        "colab_type": "code",
        "outputId": "9378ad5b-7a28-4439-c8ef-966a87591433",
        "colab": {
          "base_uri": "https://localhost:8080/",
          "height": 34
        }
      },
      "source": [
        "is_palindrome('noon')"
      ],
      "execution_count": 21,
      "outputs": [
        {
          "output_type": "execute_result",
          "data": {
            "text/plain": [
              "True"
            ]
          },
          "metadata": {
            "tags": []
          },
          "execution_count": 21
        }
      ]
    }
  ]
}
