{
  "nbformat": 4,
  "nbformat_minor": 0,
  "metadata": {
    "colab": {
      "name": "6-5.ipynb",
      "provenance": [],
      "include_colab_link": true
    },
    "kernelspec": {
      "name": "python3",
      "display_name": "Python 3"
    }
  },
  "cells": [
    {
      "cell_type": "markdown",
      "metadata": {
        "id": "view-in-github",
        "colab_type": "text"
      },
      "source": [
        "<a href=\"https://colab.research.google.com/github/ellenttkl/Think-Python-E2-Solutions/blob/master/ex6/6_5.ipynb\" target=\"_parent\"><img src=\"https://colab.research.google.com/assets/colab-badge.svg\" alt=\"Open In Colab\"/></a>"
      ]
    },
    {
      "cell_type": "markdown",
      "metadata": {
        "id": "teLiQodNb5n5",
        "colab_type": "text"
      },
      "source": [
        "The greatest common divisor (GCD) of a and b is the largest number that divides both of them with no remainder.\n",
        "\n",
        "One way to find the GCD of two numbers is based on the observation that if r is the remainder when a is divided by b, then gcd(a, b) = gcd(b, r). As a base case, we can use gcd(a, 0) = a.\n",
        "\n",
        "Write a function called gcd that takes parameters a and b and returns their greatest common divisor."
      ]
    },
    {
      "cell_type": "code",
      "metadata": {
        "id": "2lcvVM7EM48d",
        "colab_type": "code",
        "colab": {}
      },
      "source": [
        "def gcd(a,b):\n",
        "  if b==0:\n",
        "    return a\n",
        "  else:\n",
        "    r = a%b\n",
        "    return gcd(b,r)\n"
      ],
      "execution_count": 0,
      "outputs": []
    },
    {
      "cell_type": "code",
      "metadata": {
        "id": "AMmsG1rFXxtM",
        "colab_type": "code",
        "colab": {
          "base_uri": "https://localhost:8080/",
          "height": 34
        },
        "outputId": "0f970a99-fc74-43e3-dc67-95417df54eea"
      },
      "source": [
        "gcd(319,377)"
      ],
      "execution_count": 13,
      "outputs": [
        {
          "output_type": "execute_result",
          "data": {
            "text/plain": [
              "29"
            ]
          },
          "metadata": {
            "tags": []
          },
          "execution_count": 13
        }
      ]
    },
    {
      "cell_type": "code",
      "metadata": {
        "id": "iO_fqk-mX6rT",
        "colab_type": "code",
        "colab": {}
      },
      "source": [
        ""
      ],
      "execution_count": 0,
      "outputs": []
    }
  ]
}