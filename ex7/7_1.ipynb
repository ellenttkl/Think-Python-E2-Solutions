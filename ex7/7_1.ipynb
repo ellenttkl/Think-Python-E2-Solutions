{
  "nbformat": 4,
  "nbformat_minor": 0,
  "metadata": {
    "colab": {
      "name": "7-1.ipynb",
      "provenance": [],
      "include_colab_link": true
    },
    "kernelspec": {
      "name": "python3",
      "display_name": "Python 3"
    }
  },
  "cells": [
    {
      "cell_type": "markdown",
      "metadata": {
        "id": "view-in-github",
        "colab_type": "text"
      },
      "source": [
        "<a href=\"https://colab.research.google.com/github/ellenttkl/Think-Python-E2-Solutions/blob/master/ex7/7_1.ipynb\" target=\"_parent\"><img src=\"https://colab.research.google.com/assets/colab-badge.svg\" alt=\"Open In Colab\"/></a>"
      ]
    },
    {
      "cell_type": "markdown",
      "metadata": {
        "id": "499IloPYVJe1",
        "colab_type": "text"
      },
      "source": [
        "Copy the loop from Section 7.5 and encapsulate it in a function called mysqrt that takes a as a parameter, chooses a reasonable value of x, and returns an estimate of the square root of a."
      ]
    },
    {
      "cell_type": "code",
      "metadata": {
        "id": "a4Rtl3HOGYEl",
        "colab_type": "code",
        "colab": {
          "base_uri": "https://localhost:8080/",
          "height": 202
        },
        "outputId": "52ac03c2-dea9-4cfb-8600-a9569cfc2ca8"
      },
      "source": [
        "import math\n",
        "def mysqrt(a):\n",
        "  x=4\n",
        "  while(True):\n",
        "    y=(x+a/x)/2\n",
        "    if y==x:\n",
        "      break\n",
        "    x=y\n",
        "  return y\n",
        "def test_square_root():\n",
        "  print('a'.ljust(1),'mysqrt(s)'.ljust(20),'math.sqrt(a)'.ljust(20),'diff'.ljust(20))\n",
        "  print('{:<1}'.format('-'),'{:<20}'.format('-'*9),'{:<20}'.format('-'*9),'{:<20}'.format('-'*4))\n",
        "  for a in range(1,10):\n",
        "    b = mysqrt(a)\n",
        "    c = math.sqrt(a)\n",
        "    diff = abs(b-c)\n",
        "    print('{:<1}'.format(a),'{:<20}'.format(b),'{:<20}'.format(c),'{:<20}'.format(diff))\n",
        "\n",
        "test_square_root()"
      ],
      "execution_count": 33,
      "outputs": [
        {
          "output_type": "stream",
          "text": [
            "a mysqrt(s)            math.sqrt(a)         diff                \n",
            "- ---------            ---------            ----                \n",
            "1 1.0                  1.0                  0.0                 \n",
            "2 1.414213562373095    1.4142135623730951   2.220446049250313e-16\n",
            "3 1.7320508075688772   1.7320508075688772   0.0                 \n",
            "4 2.0                  2.0                  0.0                 \n",
            "5 2.23606797749979     2.23606797749979     0.0                 \n",
            "6 2.449489742783178    2.449489742783178    0.0                 \n",
            "7 2.6457513110645907   2.6457513110645907   0.0                 \n",
            "8 2.82842712474619     2.8284271247461903   4.440892098500626e-16\n",
            "9 3.0                  3.0                  0.0                 \n"
          ],
          "name": "stdout"
        }
      ]
    }
  ]
}