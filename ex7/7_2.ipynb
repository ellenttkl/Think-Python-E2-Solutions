{
  "nbformat": 4,
  "nbformat_minor": 0,
  "metadata": {
    "colab": {
      "name": "7-2.ipynb",
      "provenance": [],
      "include_colab_link": true
    },
    "kernelspec": {
      "name": "python3",
      "display_name": "Python 3"
    }
  },
  "cells": [
    {
      "cell_type": "markdown",
      "metadata": {
        "id": "view-in-github",
        "colab_type": "text"
      },
      "source": [
        "<a href=\"https://colab.research.google.com/github/ellenttkl/Think-Python-E2-Solutions/blob/master/ex7/7_2.ipynb\" target=\"_parent\"><img src=\"https://colab.research.google.com/assets/colab-badge.svg\" alt=\"Open In Colab\"/></a>"
      ]
    },
    {
      "cell_type": "markdown",
      "metadata": {
        "id": "11swmJKDkW-d",
        "colab_type": "text"
      },
      "source": [
        "The built-in function eval takes a string and evaluates it using the Python interpreter.\n",
        "\n",
        "Write a function called eval_loop that iteratively prompts the user, takes the resulting input and evaluates it using eval, and prints the result.\n",
        "\n",
        "It should continue until the user enters 'done', and then return the value of the last expression it evaluated."
      ]
    },
    {
      "cell_type": "code",
      "metadata": {
        "id": "_yVE6YHSV3r5",
        "colab_type": "code",
        "colab": {
          "base_uri": "https://localhost:8080/",
          "height": 50
        },
        "outputId": "ae2cfd6f-1779-46d5-ff3b-be46886099bc"
      },
      "source": [
        "import math\n",
        "def eval_loop():\n",
        "  while(True):\n",
        "    x = input('Enter an expression plz:')\n",
        "    if x=='done': \n",
        "      y = x\n",
        "      break\n",
        "    y = eval(x)\n",
        "    print(y)\n",
        "  return y\n",
        "eval_loop()"
      ],
      "execution_count": 16,
      "outputs": [
        {
          "output_type": "stream",
          "text": [
            "Enter an expression plz:done\n"
          ],
          "name": "stdout"
        },
        {
          "output_type": "execute_result",
          "data": {
            "text/plain": [
              "'done'"
            ]
          },
          "metadata": {
            "tags": []
          },
          "execution_count": 16
        }
      ]
    },
    {
      "cell_type": "code",
      "metadata": {
        "id": "qExdXp0bbJCI",
        "colab_type": "code",
        "colab": {}
      },
      "source": [
        ""
      ],
      "execution_count": 0,
      "outputs": []
    }
  ]
}