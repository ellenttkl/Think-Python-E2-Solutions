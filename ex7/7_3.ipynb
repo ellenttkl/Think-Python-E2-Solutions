{
  "nbformat": 4,
  "nbformat_minor": 0,
  "metadata": {
    "colab": {
      "name": "7-3.ipynb",
      "provenance": [],
      "include_colab_link": true
    },
    "kernelspec": {
      "name": "python3",
      "display_name": "Python 3"
    }
  },
  "cells": [
    {
      "cell_type": "markdown",
      "metadata": {
        "id": "view-in-github",
        "colab_type": "text"
      },
      "source": [
        "<a href=\"https://colab.research.google.com/github/ellenttkl/Think-Python-E2-Solutions/blob/master/ex7/7_3.ipynb\" target=\"_parent\"><img src=\"https://colab.research.google.com/assets/colab-badge.svg\" alt=\"Open In Colab\"/></a>"
      ]
    },
    {
      "cell_type": "markdown",
      "metadata": {
        "id": "WeZWRRDuFHfo",
        "colab_type": "text"
      },
      "source": [
        "The mathematician Srinivasa Ramanujan found an infinite series that can be used to generate a numerical approximation of 1 / π:\n",
        "\n",
        "Write a function called estimate_pi that uses this formula to compute and return an estimate of π. It should use a while loop to compute terms of the summation until the last term is smaller than 1e-15 (which is Python notation for 10−15). You can check the result by comparing it to math.pi."
      ]
    },
    {
      "cell_type": "code",
      "metadata": {
        "id": "3p8PPRq0-jIx",
        "colab_type": "code",
        "colab": {
          "base_uri": "https://localhost:8080/",
          "height": 34
        },
        "outputId": "ff84f3a0-6fe5-4682-ef2a-9c7e58025d27"
      },
      "source": [
        "import math\n",
        "def estimate_pi():\n",
        "  k = 0\n",
        "  sum = 0\n",
        "  factor = 2*math.sqrt(2)/9801\n",
        "\n",
        "  while(k>=0):\n",
        "    a = math.factorial(4*k)\n",
        "    b = 1103+26390*k\n",
        "    c = math.factorial(k)**4 * 396**(4*k)\n",
        "    d = factor*a*b/c\n",
        "    sum += d \n",
        "    if abs(d)<1e-15:\n",
        "      break\n",
        "    k += 1  \n",
        "\n",
        "  return 1/sum\n",
        "print(estimate_pi())"
      ],
      "execution_count": 42,
      "outputs": [
        {
          "output_type": "stream",
          "text": [
            "3.141592653589793\n"
          ],
          "name": "stdout"
        }
      ]
    }
  ]
}