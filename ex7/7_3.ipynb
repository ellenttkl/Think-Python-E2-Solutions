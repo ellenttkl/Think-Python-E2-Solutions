{
  "nbformat": 4,
  "nbformat_minor": 0,
  "metadata": {
    "colab": {
      "name": "7-3.ipynb",
      "provenance": [],
      "include_colab_link": true
    },
    "kernelspec": {
      "name": "python3",
      "display_name": "Python 3"
    }
  },
  "cells": [
    {
      "cell_type": "markdown",
      "metadata": {
        "id": "view-in-github",
        "colab_type": "text"
      },
      "source": [
        "<a href=\"https://colab.research.google.com/github/ellenttkl/Think-Python-E2-Solutions/blob/master/ex7/7_3.ipynb\" target=\"_parent\"><img src=\"https://colab.research.google.com/assets/colab-badge.svg\" alt=\"Open In Colab\"/></a>"
      ]
    },
    {
      "cell_type": "markdown",
      "metadata": {
        "id": "JCpW6OR1IyaA",
        "colab_type": "text"
      },
      "source": [
        "The mathematician Srinivasa Ramanujan found an infinite series that can be used to generate a numerical approximation of 1 / π:\n",
        "\n",
        "Write a function called estimate_pi that uses this formula to compute and return an estimate of π. It should use a while loop to compute terms of the summation until the last term is smaller than 1e-15 (which is Python notation for 10−15). You can check the result by comparing it to math.pi."
      ]
    },
    {
      "cell_type": "code",
      "metadata": {
        "id": "fpqFm3lXGtkD",
        "colab_type": "code",
        "colab": {
          "base_uri": "https://localhost:8080/",
          "height": 34
        },
        "outputId": "d3d9950e-8d1e-47a3-f03c-e7ca874f0f9a"
      },
      "source": [
        "import math\n",
        "\n",
        "def estimate_pi():\n",
        "    k = 0\n",
        "    sum = 0\n",
        "    factor = 2*math.sqrt(2)/9801\n",
        "    while(k>=0): \n",
        "        a = math.factorial(4*k)\n",
        "        b = 1103+26390*k\n",
        "        c = math.factorial(k)**4 * 396**(4*k)\n",
        "        term = factor*a*b/c\n",
        "        sum += term\n",
        "        if abs(term)<1e-15:\n",
        "            break\n",
        "        k += 1\n",
        "    return 1/sum\n",
        "print(estimate_pi())"
      ],
      "execution_count": 6,
      "outputs": [
        {
          "output_type": "stream",
          "text": [
            "3.141592653589793\n"
          ],
          "name": "stdout"
        }
      ]
    }
  ]
}