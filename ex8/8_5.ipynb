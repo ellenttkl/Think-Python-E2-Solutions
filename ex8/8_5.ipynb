{
  "nbformat": 4,
  "nbformat_minor": 0,
  "metadata": {
    "colab": {
      "name": "8-5.ipynb",
      "provenance": [],
      "include_colab_link": true
    },
    "kernelspec": {
      "name": "python3",
      "display_name": "Python 3"
    }
  },
  "cells": [
    {
      "cell_type": "markdown",
      "metadata": {
        "id": "view-in-github",
        "colab_type": "text"
      },
      "source": [
        "<a href=\"https://colab.research.google.com/github/ellenttkl/Think-Python-E2-Solutions/blob/master/ex8/8_5.ipynb\" target=\"_parent\"><img src=\"https://colab.research.google.com/assets/colab-badge.svg\" alt=\"Open In Colab\"/></a>"
      ]
    },
    {
      "cell_type": "markdown",
      "metadata": {
        "id": "sMlRPMsdc324",
        "colab_type": "text"
      },
      "source": [
        "Write a function called rotate_word that takes a string and an integer as parameters, and returns a new string that contains the letters from the original string rotated by the given amount.\n",
        "\n",
        "You might want to use the built-in function ord, which converts a character to a numeric code, and chr, which converts numeric codes to characters."
      ]
    },
    {
      "cell_type": "code",
      "metadata": {
        "id": "p-HJ_JPpW2-n",
        "colab_type": "code",
        "outputId": "6bf32e7a-141e-42d7-f250-00d1c8c745f6",
        "colab": {
          "base_uri": "https://localhost:8080/",
          "height": 34
        }
      },
      "source": [
        "def rotate_letter(l,n):\n",
        "  if l.islower():\n",
        "    start = ord('a')\n",
        "  elif l.isupper():\n",
        "    start = ord('A')\n",
        "  else:\n",
        "    return l\n",
        "  new_letter = chr((ord(l)-start+n)%26+start)\n",
        "  return new_letter\n",
        "\n",
        "def rotate_word(st,n):\n",
        "    new_string = ''\n",
        "    for letter in st:\n",
        "      new_letter = rotate_letter(letter,n)\n",
        "      new_string += new_letter\n",
        "    return new_string  \n",
        "\n",
        "rotate_word('BMI',-1)"
      ],
      "execution_count": 5,
      "outputs": [
        {
          "output_type": "execute_result",
          "data": {
            "text/plain": [
              "'ALH'"
            ]
          },
          "metadata": {
            "tags": []
          },
          "execution_count": 5
        }
      ]
    },
    {
      "cell_type": "code",
      "metadata": {
        "id": "oJeZCdZ6W5-N",
        "colab_type": "code",
        "colab": {}
      },
      "source": [
        ""
      ],
      "execution_count": 0,
      "outputs": []
    }
  ]
}