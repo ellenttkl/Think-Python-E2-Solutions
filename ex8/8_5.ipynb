{
  "nbformat": 4,
  "nbformat_minor": 0,
  "metadata": {
    "colab": {
      "name": "8-5.ipynb",
      "provenance": [],
      "include_colab_link": true
    },
    "kernelspec": {
      "name": "python3",
      "display_name": "Python 3"
    }
  },
  "cells": [
    {
      "cell_type": "markdown",
      "metadata": {
        "id": "view-in-github",
        "colab_type": "text"
      },
      "source": [
        "<a href=\"https://colab.research.google.com/github/ellenttkl/Think-Python-E2-Solutions/blob/master/ex8/8_5.ipynb\" target=\"_parent\"><img src=\"https://colab.research.google.com/assets/colab-badge.svg\" alt=\"Open In Colab\"/></a>"
      ]
    },
    {
      "cell_type": "markdown",
      "metadata": {
        "id": "sMlRPMsdc324",
        "colab_type": "text"
      },
      "source": [
        "Write a function called rotate_word that takes a string and an integer as parameters, and returns a new string that contains the letters from the original string rotated by the given amount.\n",
        "\n",
        "You might want to use the built-in function ord, which converts a character to a numeric code, and chr, which converts numeric codes to characters."
      ]
    },
    {
      "cell_type": "code",
      "metadata": {
        "id": "p-HJ_JPpW2-n",
        "colab_type": "code",
        "colab": {
          "base_uri": "https://localhost:8080/",
          "height": 34
        },
        "outputId": "f7ce2a91-bafe-427e-81c5-575b898b3393"
      },
      "source": [
        "def rotate_word(st,i):\n",
        "    new_string = ''\n",
        "    for c in st:\n",
        "        if c.islower()==True:\n",
        "            new_string += chr(ord(c)+i)\n",
        "        else:\n",
        "            new_string += chr(ord(c)+i)\n",
        "    return new_string  \n",
        "\n",
        "rotate_word('IBM',-1)"
      ],
      "execution_count": 8,
      "outputs": [
        {
          "output_type": "execute_result",
          "data": {
            "text/plain": [
              "'HAL'"
            ]
          },
          "metadata": {
            "tags": []
          },
          "execution_count": 8
        }
      ]
    },
    {
      "cell_type": "code",
      "metadata": {
        "id": "oJeZCdZ6W5-N",
        "colab_type": "code",
        "colab": {}
      },
      "source": [
        ""
      ],
      "execution_count": 0,
      "outputs": []
    }
  ]
}