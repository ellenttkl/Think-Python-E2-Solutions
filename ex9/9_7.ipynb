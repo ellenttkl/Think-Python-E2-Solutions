{
  "nbformat": 4,
  "nbformat_minor": 0,
  "metadata": {
    "colab": {
      "name": "9-7.ipynb",
      "provenance": [],
      "include_colab_link": true
    },
    "kernelspec": {
      "name": "python3",
      "display_name": "Python 3"
    }
  },
  "cells": [
    {
      "cell_type": "markdown",
      "metadata": {
        "id": "view-in-github",
        "colab_type": "text"
      },
      "source": [
        "<a href=\"https://colab.research.google.com/github/ellenttkl/Think-Python-E2-Solutions/blob/master/ex9/9_7.ipynb\" target=\"_parent\"><img src=\"https://colab.research.google.com/assets/colab-badge.svg\" alt=\"Open In Colab\"/></a>"
      ]
    },
    {
      "cell_type": "markdown",
      "metadata": {
        "id": "ffcQ8fOzISUV",
        "colab_type": "text"
      },
      "source": [
        "This question is based on a Puzzler that was broadcast on the radio program Car Talk (http://www.cartalk.com/content/puzzlers):\n",
        "\n",
        "Give me a word with three consecutive double letters. I’ll give you a couple of words that almost qualify, but don’t. For example, the word committee, c-o-m-m-i-t-t-e-e. It would be great except for the ‘i’ that sneaks in there. Or Mississippi: M-i-s-s-i-s-s-i-p-p-i. If you could take out those i’s it would work. But there is a word that has three consecutive pairs of letters and to the best of my knowledge this may be the only word. Of course there are probably 500 more but I can only think of one. What is the word?\n",
        "Write a program to find it. "
      ]
    },
    {
      "cell_type": "code",
      "metadata": {
        "id": "so6vSyVcKDZL",
        "colab_type": "code",
        "colab": {}
      },
      "source": [
        "fin = open(words.txt)\n",
        "for line in fin:\n",
        "  word = line.strip()\n",
        "  if len(word)>=6:\n",
        "    for i in range(len(word)-5):\n",
        "      if(word[i]==word[i+1] & word[i+2]==word[i+3] & word[i+4]==word[i+5]):\n",
        "        print(word)"
      ],
      "execution_count": 0,
      "outputs": []
    }
  ]
}