{
  "nbformat": 4,
  "nbformat_minor": 0,
  "metadata": {
    "colab": {
      "name": "9-8.ipynb",
      "provenance": [],
      "collapsed_sections": [],
      "include_colab_link": true
    },
    "kernelspec": {
      "name": "python3",
      "display_name": "Python 3"
    }
  },
  "cells": [
    {
      "cell_type": "markdown",
      "metadata": {
        "id": "view-in-github",
        "colab_type": "text"
      },
      "source": [
        "<a href=\"https://colab.research.google.com/github/ellenttkl/Think-Python-E2-Solutions/blob/master/ex9/9_8.ipynb\" target=\"_parent\"><img src=\"https://colab.research.google.com/assets/colab-badge.svg\" alt=\"Open In Colab\"/></a>"
      ]
    },
    {
      "cell_type": "markdown",
      "metadata": {
        "id": "4PtWqzmLYLNY",
        "colab_type": "text"
      },
      "source": [
        "Here’s another Car Talk Puzzler (http://www.cartalk.com/content/puzzlers):\n",
        "“I was driving on the highway the other day and I happened to notice my odometer. Like most odometers, it shows six digits, in whole miles only. So, if my car had 300,000 miles, for example, I’d see 3-0-0-0-0-0.\n",
        "“Now, what I saw that day was very interesting. I noticed that the last 4 digits were palindromic; that is, they read the same forward as backward. For example, 5-4-4-5 is a palindrome, so my odometer could have read 3-1-5-4-4-5.\n",
        "\n",
        "“One mile later, the last 5 numbers were palindromic. For example, it could have read 3-6-5-4-5-6. One mile after that, the middle 4 out of 6 numbers were palindromic. And you ready for this? One mile later, all 6 were palindromic!\n",
        "\n",
        "“The question is, what was on the odometer when I first looked?”\n",
        "\n",
        "Write a Python program that tests all the six-digit numbers and prints any numbers that satisfy these requirements. "
      ]
    },
    {
      "cell_type": "code",
      "metadata": {
        "id": "nFWD0CqbHxgr",
        "colab_type": "code",
        "colab": {
          "base_uri": "https://localhost:8080/",
          "height": 50
        },
        "outputId": "b37b4f71-e8e0-4142-f7aa-cff5f3755e64"
      },
      "source": [
        "for i in range(100000,1000000):\n",
        "  num = i\n",
        "  last_four = str(num)[2:]\n",
        "  if last_four[:]==last_four[::-1]:\n",
        "    num += 1\n",
        "    last_five = str(num)[1:]\n",
        "    if last_five[:]==last_five[::-1]:\n",
        "      num += 1\n",
        "      middle_four = str(num)[1:5]\n",
        "      if middle_four[:]==middle_four[::-1]:\n",
        "        num += 1\n",
        "        if str(num)[:]==str(num)[::-1]:\n",
        "          print(i)"
      ],
      "execution_count": 15,
      "outputs": [
        {
          "output_type": "stream",
          "text": [
            "198888\n",
            "199999\n"
          ],
          "name": "stdout"
        }
      ]
    },
    {
      "cell_type": "code",
      "metadata": {
        "id": "fETHUNieH4vw",
        "colab_type": "code",
        "colab": {}
      },
      "source": [
        ""
      ],
      "execution_count": 0,
      "outputs": []
    }
  ]
}