{
  "nbformat": 4,
  "nbformat_minor": 0,
  "metadata": {
    "colab": {
      "name": "9-9.ipynb",
      "provenance": [],
      "collapsed_sections": [],
      "include_colab_link": true
    },
    "kernelspec": {
      "name": "python3",
      "display_name": "Python 3"
    }
  },
  "cells": [
    {
      "cell_type": "markdown",
      "metadata": {
        "id": "view-in-github",
        "colab_type": "text"
      },
      "source": [
        "<a href=\"https://colab.research.google.com/github/ellenttkl/Think-Python-E2-Solutions/blob/master/ex9/9_9.ipynb\" target=\"_parent\"><img src=\"https://colab.research.google.com/assets/colab-badge.svg\" alt=\"Open In Colab\"/></a>"
      ]
    },
    {
      "cell_type": "markdown",
      "metadata": {
        "id": "TXJQhOpfTBCF",
        "colab_type": "text"
      },
      "source": [
        " Here’s another Car Talk Puzzler you can solve with a search (http://www.cartalk.com/content/puzzlers):\n",
        " \n",
        "“Recently I had a visit with my mom and we realized that the two digits that make up my age when reversed resulted in her age. For example, if she’s 73, I’m 37. We wondered how often this has happened over the years but we got sidetracked with other topics and we never came up with an answer.\n",
        "“When I got home I figured out that the digits of our ages have been reversible six times so far. I also figured out that if we’re lucky it would happen again in a few years, and if we’re really lucky it would happen one more time after that. In other words, it would have happened 8 times over all. So the question is, how old am I now?”\n",
        "\n",
        "Write a Python program that searches for solutions to this Puzzler. Hint: you might find the string method zfill useful."
      ]
    },
    {
      "cell_type": "code",
      "metadata": {
        "id": "fvquZ-cPHoOk",
        "colab_type": "code",
        "colab": {
          "base_uri": "https://localhost:8080/",
          "height": 370
        },
        "outputId": "4e4b3429-88fb-4730-8a40-d30d9b09922a"
      },
      "source": [
        "def num_instance(diff,flag):\n",
        "  count = 0\n",
        "  daughter = 0\n",
        "  while True:\n",
        "    mom = daughter + diff\n",
        "    if str(daughter).zfill(2)[:]==str(mom).zfill(2)[::-1] or str(daughter).zfill(2)[:]==str(mom+1).zfill(2)[::-1]:\n",
        "      count += 1\n",
        "      if flag:\n",
        "        print(daughter,mom)\n",
        "    daughter += 1\n",
        "    if mom>99:\n",
        "      break\n",
        "  return count\n",
        "\n",
        "def check_diff():\n",
        "  diff = 10\n",
        "  while diff<70:\n",
        "    n = num_instance(diff,False)\n",
        "    if n>0:\n",
        "      print(diff,n)\n",
        "    diff += 1\n",
        "\n",
        "check_diff()\n",
        "num_instance(18,True)"
      ],
      "execution_count": 19,
      "outputs": [
        {
          "output_type": "stream",
          "text": [
            "17 8\n",
            "18 8\n",
            "26 7\n",
            "27 7\n",
            "35 6\n",
            "36 6\n",
            "44 5\n",
            "45 5\n",
            "53 4\n",
            "54 4\n",
            "62 3\n",
            "63 3\n",
            "2 20\n",
            "13 31\n",
            "24 42\n",
            "35 53\n",
            "46 64\n",
            "57 75\n",
            "68 86\n",
            "79 97\n"
          ],
          "name": "stdout"
        },
        {
          "output_type": "execute_result",
          "data": {
            "text/plain": [
              "8"
            ]
          },
          "metadata": {
            "tags": []
          },
          "execution_count": 19
        }
      ]
    },
    {
      "cell_type": "code",
      "metadata": {
        "id": "PMb3N_yTOWVT",
        "colab_type": "code",
        "colab": {}
      },
      "source": [
        ""
      ],
      "execution_count": 0,
      "outputs": []
    }
  ]
}